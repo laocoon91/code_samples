{
 "cells": [
  {
   "cell_type": "code",
   "execution_count": null,
   "id": "7bb35a65",
   "metadata": {},
   "outputs": [],
   "source": [
    "\"\"\"\n",
    "Run the REAL algorithm on outputs from PhaseNet.\n",
    "Phasenet Outputs should be separated into directories based on day.\n",
    "\n",
    "INPUT:\n",
    "- PhaseNet detections for each station, formatted for REAL algorithm and saved into directories corresponding to date\n",
    "- Stations file containing station locations\n",
    "- File listing days you want to run associations for\n",
    "\n",
    "OUTPUT:\n",
    "- Text file with catalog of associated earthquakes\n",
    "- Text file with phases for catalog events\n",
    "\n",
    "\"\"\""
   ]
  },
  {
   "cell_type": "code",
   "execution_count": null,
   "id": "8d309f9e",
   "metadata": {},
   "outputs": [],
   "source": [
    "import numpy as np\n",
    "import shutil\n",
    "import subprocess"
   ]
  },
  {
   "cell_type": "code",
   "execution_count": null,
   "id": "23b4c25c",
   "metadata": {},
   "outputs": [],
   "source": [
    "### CHANGE THESE!!! ###\n",
    "\n",
    "# File with list of days to run associataions\n",
    "fday = 'days.txt'\n",
    "fsta = 'STATIONS3.dat'\n",
    "\n",
    "# Name of output catalog and phase files\n",
    "fmcat = 'master_catalog_sel.txt'\n",
    "fmpha = 'master_phase_sel.txt'\n",
    "\n",
    "#######################"
   ]
  },
  {
   "cell_type": "code",
   "execution_count": null,
   "id": "b2b4623e",
   "metadata": {},
   "outputs": [],
   "source": [
    "# Open day file\n",
    "days = np.loadtxt(fday,dtype='str')\n",
    "\n",
    "# Open master catalog and phase files\n",
    "mcat = open(fmcat,'w')\n",
    "mpha = open(fmpha,'w')\n",
    "\n",
    "for i in range(len(days)):\n",
    "    day=days[i]\n",
    "    print(day)\n",
    "\n",
    "    dstr=\"-D2022/\"+day[4:6]+\"/\"+day[6:8]+\"/45.609\"\n",
    "    ddir=\"./fullmonth_days/\"+day\n",
    "    # Run the REAL algorithm for the day\n",
    "    subprocess.run([\"../../bin/REAL\", dstr, \"-R1.0/42/0.2/2/5\", \"-V6.2/3.3/2.9/1.68\", \"-S4/3/5/1/1.0/0/1.2\", fsta, ddir])\n",
    "\n",
    "    # Copy output files for the day to the day's directory\n",
    "    shutil.copyfile(\"catalog_sel.txt\", \"./fullmonth_days/\"+day+\"/catalog_sel_\"+day+\".txt\")\n",
    "    shutil.copyfile(\"phase_sel.txt\", \"./fullmonth_days/\"+day+\"/phase_sel_\"+day+\".txt\")\n",
    "    shutil.copyfile(\"hypolocSA.dat\", \"./fullmonth_days/\"+day+\"/hypolocSA_\"+day+\".dat\")\n",
    "    shutil.copyfile(\"hypophase.dat\", \"./fullmonth_days/\"+day+\"/hypophase_\"+day+\".dat\")\n",
    "    \n",
    "    # Open output catalog and phase files and append data to master files\n",
    "    if(i==0):\n",
    "        shutil.copyfile(\"catalog_sel.txt\", \"master_catalog_sel.txt\")\n",
    "        shutil.copyfile(\"phase_sel.txt\", \"master_phase_sel.txt\")\n",
    "    else:\n",
    "        mcat=open(\"master_catalog_sel.txt\",\"a+\")\n",
    "        mpha=open(\"master_phase_sel.txt\",\"a+\")\n",
    "        cat=open(\"catalog_sel.txt\",\"r\")\n",
    "        pha=open(\"phase_sel.txt\",\"r\")\n",
    "        \n",
    "        mcat.write(cat.read())\n",
    "        mpha.write(pha.read())\n",
    "        \n",
    "        mcat.close()\n",
    "        mpha.close()\n",
    "        cat.close()\n",
    "        pha.close()\n",
    "    "
   ]
  }
 ],
 "metadata": {
  "kernelspec": {
   "display_name": "Python 3 (ipykernel)",
   "language": "python",
   "name": "python3"
  },
  "language_info": {
   "codemirror_mode": {
    "name": "ipython",
    "version": 3
   },
   "file_extension": ".py",
   "mimetype": "text/x-python",
   "name": "python",
   "nbconvert_exporter": "python",
   "pygments_lexer": "ipython3",
   "version": "3.8.10"
  }
 },
 "nbformat": 4,
 "nbformat_minor": 5
}

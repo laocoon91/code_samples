{
 "cells": [
  {
   "cell_type": "code",
   "execution_count": 1,
   "id": "7bb35a65",
   "metadata": {},
   "outputs": [
    {
     "data": {
      "text/plain": [
       "'\\nRun the REAL algorithm on outputs from phasenet.\\nPhasenet Outputs should be separated into directories based on day.\\n'"
      ]
     },
     "execution_count": 1,
     "metadata": {},
     "output_type": "execute_result"
    }
   ],
   "source": [
    "\"\"\"\n",
    "Run the REAL algorithm on outputs from PhaseNet.\n",
    "Phasenet Outputs should be separated into directories based on day.\n",
    "\n",
    "INPUT:\n",
    "- PhaseNet detections for each station, formatted for REAL algorithm and saved into directories corresponding to date\n",
    "- Stations file containing station locations\n",
    "- File listing days you want to run associations for\n",
    "\n",
    "OUTPUT:\n",
    "- Text file with catalog of associated earthquakes\n",
    "- Text file with phases for catalog events\n",
    "\n",
    "\"\"\""
   ]
  },
  {
   "cell_type": "code",
   "execution_count": 2,
   "id": "8d309f9e",
   "metadata": {},
   "outputs": [],
   "source": [
    "import numpy as np\n",
    "import shutil\n",
    "import subprocess"
   ]
  },
  {
   "cell_type": "code",
   "execution_count": 3,
   "id": "23b4c25c",
   "metadata": {},
   "outputs": [],
   "source": [
    "### CHANGE THESE!!! ###\n",
    "\n",
    "# File with list of days to run associataions\n",
    "fday = 'days.txt'\n",
    "fsta = 'STATIONS3.dat'\n",
    "\n",
    "# Name of output catalog and phase files\n",
    "fmcat = 'master_catalog_sel.txt'\n",
    "fmpha = 'master_phase_sel.txt'\n",
    "\n",
    "#######################"
   ]
  },
  {
   "cell_type": "code",
   "execution_count": 4,
   "id": "b2b4623e",
   "metadata": {},
   "outputs": [
    {
     "name": "stdout",
     "output_type": "stream",
     "text": [
      "20220527\n"
     ]
    },
    {
     "name": "stderr",
     "output_type": "stream",
     "text": [
      "Max Setting: Nst 500   Nps 20000 Ntb 20000\n",
      "Actual     : Nst 41    Nps 1484  Ntb 20000\n",
      "p-window= nrt*ptw = 1.20 * 5.08 sec = 6.10 sec\n",
      "s-window= nrt*stw = 1.20 * 9.55 sec = 11.46 sec\n",
      "event-window= 11.46 sec\n",
      "Largest distance 1.55 degree was used\n",
      "events with nearest event-station distance > nxd * GCarc0 will be discarded\n",
      "i.e., 0.50 * 1.55 deg. = 86.18 km\n",
      "    1   2022 05 27 18:51:55.699    67915.699  0.7970 45.8134 -122.2069  14.00   4   3   7   2 276.27\n",
      "    2   2022 05 27 20:16:13.639    72973.639  0.8260 45.5070 -122.8372   0.00   5   3   8   3 184.20\n",
      "before first selection: 2\n",
      "remove duplicate events\n",
      "after first selection: 2\n",
      "before second selection: 2\n",
      "remove suspicious events, outlier picks and duplicate associated picks\n",
      "after second selection: 2\n",
      "Relocate the 2 events using a simulated-annealing method\n",
      "Max Setting: Nst 500   Nps 20000 Ntb 20000\n"
     ]
    },
    {
     "name": "stdout",
     "output_type": "stream",
     "text": [
      "Nlat= 11 Nlon= 11 Ndep= 22 Ntotal= 2662\n",
      "20220528\n"
     ]
    },
    {
     "name": "stderr",
     "output_type": "stream",
     "text": [
      "Actual     : Nst 52    Nps 1505  Ntb 20000\n",
      "p-window= nrt*ptw = 1.20 * 5.08 sec = 6.10 sec\n",
      "s-window= nrt*stw = 1.20 * 9.55 sec = 11.46 sec\n",
      "event-window= 11.46 sec\n",
      "Largest distance 1.55 degree was used\n",
      "events with nearest event-station distance > nxd * GCarc0 will be discarded\n",
      "i.e., 0.50 * 1.55 deg. = 86.18 km\n",
      "    1   2022 05 28 02:25:01.103     8701.103  0.7737 44.9729 -122.4346  14.00   4   3   7   2 314.16\n",
      "    2   2022 05 28 03:03:16.809    10996.809  0.7927 45.1929 -123.1489  16.00   4   3   7   2 185.95\n",
      "    3   2022 05 28 07:47:25.948    28045.948  0.7792 45.5918 -122.6399  12.00   5   3   8   2 228.35\n",
      "    4   2022 05 28 09:28:53.825    34133.825  0.8524 45.7703 -122.7115   0.00   4   3   7   2 135.09\n",
      "before first selection: 4\n",
      "remove duplicate events\n",
      "after first selection: 4\n",
      "before second selection: 4\n",
      "remove suspicious events, outlier picks and duplicate associated picks\n",
      "after second selection: 4\n",
      "Relocate the 4 events using a simulated-annealing method\n",
      "Max Setting: Nst 500   Nps 20000 Ntb 20000\n"
     ]
    },
    {
     "name": "stdout",
     "output_type": "stream",
     "text": [
      "Nlat= 11 Nlon= 11 Ndep= 22 Ntotal= 2662\n",
      "20220529\n"
     ]
    },
    {
     "name": "stderr",
     "output_type": "stream",
     "text": [
      "Actual     : Nst 57    Nps 1450  Ntb 20000\n",
      "p-window= nrt*ptw = 1.20 * 5.08 sec = 6.10 sec\n",
      "s-window= nrt*stw = 1.20 * 9.55 sec = 11.46 sec\n",
      "event-window= 11.46 sec\n",
      "Largest distance 1.50 degree was used\n",
      "events with nearest event-station distance > nxd * GCarc0 will be discarded\n",
      "i.e., 0.50 * 1.50 deg. = 83.12 km\n",
      "    1   2022 05 29 00:20:07.875     1207.875  0.9784 45.2113 -122.8662   0.00   5   3   8   1 290.00\n",
      "    2   2022 05 29 02:15:42.208     8142.208  0.6741 45.4786 -122.7316  10.00   4   3   7   2 187.96\n",
      "    3   2022 05 29 08:06:20.757    29180.757  0.9227 45.5132 -123.3043  20.00   5   3   8   2 308.52\n",
      "    4   2022 05 29 09:00:00.635    32400.635  0.9064 45.1929 -122.5771  26.00  31  45  76  31 104.06\n",
      "    5   2022 05 29 21:28:21.456    77301.456  0.9845 45.3214 -122.5346   0.00   4   3   7   1 187.95\n",
      "    6   2022 05 29 23:13:20.693    83600.693  0.9626 45.7103 -122.8628  18.00   4   3   7   1 184.51\n",
      "before first selection: 6\n",
      "remove duplicate events\n",
      "after first selection: 6\n",
      "before second selection: 6\n",
      "remove suspicious events, outlier picks and duplicate associated picks\n",
      "after second selection: 4\n",
      "Relocate the 4 events using a simulated-annealing method\n",
      "Max Setting: Nst 500   Nps 20000 Ntb 20000\n"
     ]
    },
    {
     "name": "stdout",
     "output_type": "stream",
     "text": [
      "Nlat= 11 Nlon= 11 Ndep= 22 Ntotal= 2662\n",
      "20220530\n"
     ]
    },
    {
     "name": "stderr",
     "output_type": "stream",
     "text": [
      "Actual     : Nst 63    Nps 1495  Ntb 20000\n",
      "p-window= nrt*ptw = 1.20 * 5.08 sec = 6.10 sec\n",
      "s-window= nrt*stw = 1.20 * 9.55 sec = 11.46 sec\n",
      "event-window= 11.46 sec\n",
      "Largest distance 1.55 degree was used\n",
      "events with nearest event-station distance > nxd * GCarc0 will be discarded\n",
      "i.e., 0.50 * 1.55 deg. = 86.18 km\n",
      "    1   2022 05 30 03:48:24.456    13704.456  0.8371 45.5111 -122.7675   0.00   4   3   7   1 177.24\n",
      "    2   2022 05 30 04:47:45.574    17265.574  0.8352 45.5350 -123.2735   4.00   4   3   7   2 217.07\n",
      "    3   2022 05 30 06:47:32.524    24452.524  0.8543 45.1103 -123.7205  14.00   4   3   7   2 338.51\n",
      "    4   2022 05 30 07:32:29.564    27149.564  0.9609 45.4584 -122.9696   0.00   4   3   7   2 226.89\n",
      "    5   2022 05 30 14:28:06.317    52086.317  0.7825 45.5065 -122.6165  40.00   5   3   8   2 163.86\n",
      "    6   2022 05 30 16:25:25.354    59125.354  0.7923 45.4513 -123.3658   6.00   4   4   8   2 201.56\n",
      "    7   2022 05 30 17:19:34.243    62374.243  0.8687 45.5189 -123.0675  32.00   4   3   7   1 159.25\n",
      "    8   2022 05 30 18:21:20.836    66080.836  0.9883 45.5044 -122.6039  10.00   5   3   8   2 284.10\n",
      "    9   2022 05 30 20:56:53.438    75413.438  0.8042 45.7673 -123.1154  22.00   6   3   9   1 180.72\n",
      "   10   2022 05 30 23:52:14.548    85934.548  0.9241 45.8513 -123.6517   0.00   4   3   7   1 303.49\n",
      "before first selection: 10\n",
      "remove duplicate events\n",
      "after first selection: 10\n",
      "before second selection: 10\n",
      "remove suspicious events, outlier picks and duplicate associated picks\n",
      "after second selection: 4\n",
      "Relocate the 4 events using a simulated-annealing method\n",
      "Max Setting: Nst 500   Nps 20000 Ntb 20000\n"
     ]
    },
    {
     "name": "stdout",
     "output_type": "stream",
     "text": [
      "Nlat= 11 Nlon= 11 Ndep= 22 Ntotal= 2662\n",
      "20220531\n"
     ]
    },
    {
     "name": "stderr",
     "output_type": "stream",
     "text": [
      "Actual     : Nst 61    Nps 1480  Ntb 20000\n",
      "p-window= nrt*ptw = 1.20 * 5.08 sec = 6.10 sec\n",
      "s-window= nrt*stw = 1.20 * 9.55 sec = 11.46 sec\n",
      "event-window= 11.46 sec\n",
      "Largest distance 1.55 degree was used\n",
      "events with nearest event-station distance > nxd * GCarc0 will be discarded\n",
      "i.e., 0.50 * 1.55 deg. = 86.18 km\n",
      "    1   2022 05 31 01:44:10.180     6250.180  0.9481 45.4885 -123.5275   2.00   5   3   8   1 267.97\n",
      "    2   2022 05 31 04:09:52.212    14992.212  0.9634 45.4786 -123.0175   0.00   5   4   9   3 182.22\n",
      "    3   2022 05 31 06:49:56.105    24596.105  0.8450 45.3967 -123.2860   0.00   4   3   7   2 131.44\n",
      "    4   2022 05 31 06:57:45.368    25065.368  0.9880 44.9525 -123.5209  30.00   4   4   8   1 330.19\n",
      "    5   2022 05 31 07:58:08.422    28688.422  0.9905 45.4790 -123.0946   4.00   4   5   9   2 173.62\n",
      "    6   2022 05 31 14:20:27.043    51627.043  0.8957 45.2809 -122.4777  10.00   4   4   8   2 121.92\n",
      "    7   2022 05 31 16:17:14.678    58634.678  0.7479 44.7877 -122.8923   0.00   5   3   8   2 322.65\n",
      "    8   2022 05 31 18:55:39.374    68139.374  0.8141 45.7299 -122.5534   0.00   5   3   8   2 281.27\n",
      "    9   2022 05 31 21:58:39.264    79119.264  0.9122 45.1753 -122.2152  36.00   4   3   7   1 302.50\n",
      "   10   2022 05 31 21:58:38.848    79118.848  0.9347 45.1967 -122.1424  34.00   4   3   7   1 300.22\n",
      "   11   2022 05 31 23:09:52.874    83392.874  0.8683 45.7132 -122.4466   0.00   4   3   7   1 302.25\n",
      "before first selection: 11\n",
      "remove duplicate events\n",
      "after first selection: 10\n",
      "before second selection: 10\n",
      "remove suspicious events, outlier picks and duplicate associated picks\n",
      "after second selection: 8\n",
      "Relocate the 8 events using a simulated-annealing method\n"
     ]
    },
    {
     "name": "stdout",
     "output_type": "stream",
     "text": [
      "Nlat= 11 Nlon= 11 Ndep= 22 Ntotal= 2662\n",
      "20220601\n"
     ]
    },
    {
     "name": "stderr",
     "output_type": "stream",
     "text": [
      "Max Setting: Nst 500   Nps 20000 Ntb 20000\n",
      "Actual     : Nst 64    Nps 1367  Ntb 20000\n",
      "p-window= nrt*ptw = 1.20 * 5.08 sec = 6.10 sec\n",
      "s-window= nrt*stw = 1.20 * 9.55 sec = 11.46 sec\n",
      "event-window= 11.46 sec\n",
      "Largest distance 1.55 degree was used\n",
      "events with nearest event-station distance > nxd * GCarc0 will be discarded\n",
      "i.e., 0.50 * 1.55 deg. = 86.18 km\n",
      "    1   2022 06 01 00:23:36.698     1416.698  0.6810 45.7350 -122.4158  24.00   4   4   8   2 224.05\n",
      "    2   2022 06 01 02:01:56.499     7316.499  0.7818 45.7350 -122.1299   0.00   4   4   8   1 154.28\n",
      "    3   2022 06 01 08:04:16.673    29056.673  0.6060 45.9555 -122.6009  24.00   4   3   7   2 303.48\n",
      "    4   2022 06 01 13:33:14.175    48794.175  0.9308 45.7918 -124.0694  42.00   5   3   8   1 341.79\n",
      "    5   2022 06 01 15:02:29.509    54149.509  0.6415 45.5023 -123.1961   2.00   4   4   8   2 165.10\n",
      "    6   2022 06 01 16:14:22.932    58462.932  0.8918 45.7163 -123.2318  22.00   5   3   8   1 174.69\n",
      "    7   2022 06 01 16:21:47.609    58907.609  0.7820 45.5494 -122.4103  36.00   4   7  11   1 177.37\n",
      "    8   2022 06 01 17:09:43.050    61783.050  0.4057 45.8513 -123.3658   0.00   4   3   7   1 176.69\n",
      "    9   2022 06 01 18:25:53.067    66353.067  0.9496 45.5214 -123.1064  22.00   5   3   8   1 191.00\n",
      "   10   2022 06 01 20:50:06.223    75006.223  0.9214 45.7214 -122.8205  14.00   4   3   7   2 160.36\n",
      "   11   2022 06 01 21:57:31.885    79051.885  0.9902 45.6569 -123.4054  30.00   4   4   8   2 193.61\n",
      "   12   2022 06 01 22:50:34.364    82234.364  0.9619 45.3081 -121.7259   0.00   4   4   8   1 296.76\n",
      "before first selection: 12\n",
      "remove duplicate events\n",
      "after first selection: 12\n",
      "before second selection: 12\n",
      "remove suspicious events, outlier picks and duplicate associated picks\n",
      "after second selection: 8\n",
      "Relocate the 8 events using a simulated-annealing method\n",
      "Max Setting: Nst 500   Nps 20000 Ntb 20000\n"
     ]
    },
    {
     "name": "stdout",
     "output_type": "stream",
     "text": [
      "Nlat= 11 Nlon= 11 Ndep= 22 Ntotal= 2662\n",
      "20220602\n"
     ]
    },
    {
     "name": "stderr",
     "output_type": "stream",
     "text": [
      "Actual     : Nst 64    Nps 1531  Ntb 20000\n",
      "p-window= nrt*ptw = 1.20 * 5.08 sec = 6.10 sec\n",
      "s-window= nrt*stw = 1.20 * 9.55 sec = 11.46 sec\n",
      "event-window= 11.46 sec\n",
      "Largest distance 1.55 degree was used\n",
      "events with nearest event-station distance > nxd * GCarc0 will be discarded\n",
      "i.e., 0.50 * 1.55 deg. = 86.18 km\n",
      "    1   2022 06 02 01:03:34.698     3814.698  0.8768 45.3929 -122.8630  20.00   4   3   7   1 187.93\n",
      "    2   2022 06 02 03:49:07.061    13747.061  0.8953 45.6113 -122.8662   8.00   4   3   7   2 132.74\n",
      "    3   2022 06 02 05:47:53.287    20873.287  0.9083 45.5555 -122.8868   0.00   4   4   8   1 124.15\n",
      "    4   2022 06 02 08:27:02.166    30422.166  0.9734 45.6940 -122.6051   0.00   5   3   8   1 246.66\n",
      "    5   2022 06 02 13:29:31.058    48571.058  0.9512 45.5673 -122.8295   6.00   4   3   7   2 215.97\n",
      "    6   2022 06 02 13:30:39.061    48639.061  0.6809 45.5673 -122.8295   2.00   4   3   7   2 217.84\n",
      "    7   2022 06 02 15:13:20.654    54800.654  0.9275 45.6809 -122.7636  16.00   5   3   8   1 132.77\n",
      "    8   2022 06 02 16:15:35.727    58535.727  0.9328 45.3761 -122.7741  28.00  14  19  33  11  90.79\n",
      "    9   2022 06 02 16:24:22.865    59062.865  0.7325 45.3004 -122.9592   0.00   5   3   8   1 210.62\n",
      "   10   2022 06 02 17:32:25.416    63145.416  0.9450 45.1081 -123.1554  24.00   4   4   8   2 280.94\n",
      "   11   2022 06 02 17:53:41.673    64421.673  0.8405 45.5703 -122.7115  12.00   5   3   8   1 161.70\n",
      "   12   2022 06 02 19:53:55.656    71635.656  0.7625 45.7081 -123.1554   0.00   4   3   7   3 281.91\n",
      "   13   2022 06 02 20:09:38.884    72578.884  0.8471 45.5753 -122.7870  14.00   5   5  10   2 202.82\n",
      "   14   2022 06 02 22:04:35.463    79475.463  0.9850 45.5401 -122.8681  38.00   5   3   8   3 195.81\n",
      "before first selection: 14\n",
      "remove duplicate events\n",
      "after first selection: 14\n",
      "before second selection: 14\n",
      "remove suspicious events, outlier picks and duplicate associated picks\n",
      "after second selection: 10\n",
      "Relocate the 10 events using a simulated-annealing method\n",
      "Max Setting: Nst 500   Nps 20000 Ntb 20000\n"
     ]
    },
    {
     "name": "stdout",
     "output_type": "stream",
     "text": [
      "Nlat= 11 Nlon= 11 Ndep= 22 Ntotal= 2662\n",
      "20220603\n"
     ]
    },
    {
     "name": "stderr",
     "output_type": "stream",
     "text": [
      "Actual     : Nst 65    Nps 1668  Ntb 20000\n",
      "p-window= nrt*ptw = 1.20 * 5.08 sec = 6.10 sec\n",
      "s-window= nrt*stw = 1.20 * 9.55 sec = 11.46 sec\n",
      "event-window= 11.46 sec\n",
      "Largest distance 1.55 degree was used\n",
      "events with nearest event-station distance > nxd * GCarc0 will be discarded\n",
      "i.e., 0.50 * 1.55 deg. = 86.18 km\n",
      "    1   2022 06 03 03:41:05.645    13265.645  0.8625 45.1703 -122.9974  38.00   4   3   7   1 244.99\n",
      "    2   2022 06 03 06:03:30.740    21810.740  0.9911 45.5103 -123.4346   2.00   4   3   7   2 329.61\n",
      "    3   2022 06 03 13:18:13.073    47893.073  0.9579 45.4513 -123.0799   0.00   4   5   9   3 286.54\n",
      "    4   2022 06 03 14:00:31.465    50431.465  0.9715 45.4170 -123.2576   0.00   5   5  10   3 156.42\n",
      "    5   2022 06 03 15:43:11.485    56591.485  0.7750 45.5918 -122.9258   8.00   5   3   8   2 124.75\n",
      "    6   2022 06 03 16:14:33.758    58473.758  0.7819 45.8113 -123.4380  32.00   5   3   8   2 260.18\n",
      "    7   2022 06 03 16:28:32.806    59312.806  0.9174 45.6423 -122.3670  36.00   4   4   8   1 180.13\n",
      "    8   2022 06 03 16:43:50.214    60230.214  0.5732 46.0642 -122.3687  28.00   4   5   9   1 289.75\n",
      "    9   2022 06 03 18:45:22.103    67522.103  0.9601 45.9106 -121.9983   0.00   4   4   8   2 273.40\n",
      "   10   2022 06 03 19:39:52.032    70792.032  0.6777 45.7413 -123.2993   0.00   4   3   7   1 293.90\n",
      "   11   2022 06 03 20:34:19.955    74059.955  0.6321 46.0169 -122.8175  24.00   4   4   8   1 217.73\n",
      "   12   2022 06 03 20:42:11.635    74531.635  0.9909 45.2113 -122.8662  32.00  11   8  19   7 136.53\n",
      "   13   2022 06 03 20:51:57.095    75117.095  0.9760 45.3918 -123.2117   0.00   4   4   8   2 309.78\n",
      "   14   2022 06 03 21:27:17.376    77237.376  0.8653 45.5103 -122.5769   0.00   5   3   8   2 197.29\n",
      "   15   2022 06 03 21:31:50.073    77510.073  0.6482 45.5132 -122.1607  22.00   5   4   9   2 287.14\n",
      "   16   2022 06 03 21:56:34.908    78994.908  0.7045 45.5132 -122.7325  10.00   4   3   7   2 310.60\n",
      "   17   2022 06 03 23:10:21.121    83421.121  0.9992 45.7703 -122.4256  20.00   4   4   8   1 191.54\n",
      "   18   2022 06 03 23:10:21.121    83421.121  0.9992 45.7703 -122.4256  20.00   4   4   8   1 191.54\n",
      "before first selection: 18\n",
      "remove duplicate events\n",
      "after first selection: 17\n",
      "before second selection: 17\n",
      "remove suspicious events, outlier picks and duplicate associated picks\n",
      "after second selection: 16\n",
      "Relocate the 16 events using a simulated-annealing method\n",
      "Max Setting: Nst 500   Nps 20000 Ntb 20000\n"
     ]
    },
    {
     "name": "stdout",
     "output_type": "stream",
     "text": [
      "Nlat= 11 Nlon= 11 Ndep= 22 Ntotal= 2662\n",
      "20220604\n"
     ]
    },
    {
     "name": "stderr",
     "output_type": "stream",
     "text": [
      "Actual     : Nst 64    Nps 1677  Ntb 20000\n",
      "p-window= nrt*ptw = 1.20 * 5.08 sec = 6.10 sec\n",
      "s-window= nrt*stw = 1.20 * 9.55 sec = 11.46 sec\n",
      "event-window= 11.46 sec\n",
      "Largest distance 1.55 degree was used\n",
      "events with nearest event-station distance > nxd * GCarc0 will be discarded\n",
      "i.e., 0.50 * 1.55 deg. = 86.18 km\n",
      "    1   2022 06 04 02:47:06.344    10026.344  0.9672 45.3103 -122.5769   8.00   4   3   7   1 136.48\n",
      "    2   2022 06 04 03:10:07.390    11407.390  0.9870 45.3401 -123.4398   0.00   4   5   9   1 240.94\n",
      "    3   2022 06 04 06:19:50.877    22790.877  0.9265 45.1918 -122.6399   0.00   4   4   8   1 304.79\n",
      "    4   2022 06 04 07:03:30.975    25410.975  0.7374 45.5132 -122.4466   6.00   4   3   7   2 307.97\n",
      "    5   2022 06 04 07:43:07.197    27787.197  0.8865 45.4790 -123.0946   0.00   4   4   8   1 202.43\n",
      "    6   2022 06 04 15:19:56.804    55196.804  0.8574 45.6423 -121.7952   8.00   4   3   7   2 315.09\n",
      "    7   2022 06 04 17:07:06.874    61626.874  0.7923 45.2885 -122.6699   0.00   4   3   7   1 302.28\n",
      "    8   2022 06 04 17:53:06.526    64386.526  0.9286 45.3023 -122.9102  18.00   4   4   8   2 229.18\n",
      "    9   2022 06 04 20:04:53.619    72293.619  0.9773 45.5132 -122.7325   0.00   4   3   7   2 165.57\n",
      "   10   2022 06 04 20:34:46.352    74086.352  0.9218 45.3918 -122.6399   0.00   4   5   9   4 255.80\n",
      "   11   2022 06 04 20:56:36.785    75396.785  0.9274 45.5132 -122.7325  12.00   4   4   8   2 246.77\n",
      "   12   2022 06 04 22:37:38.669    81458.669  0.9806 45.7967 -122.7142   0.00   6   4  10   2 177.80\n",
      "   13   2022 06 04 23:04:03.580    83043.580  0.8529 45.8556 -123.5299  40.00   4   4   8   1 268.09\n",
      "   14   2022 06 04 23:14:08.406    83648.406  0.9049 45.3132 -121.3030  30.00   5   6  11   2 310.49\n",
      "before first selection: 14\n",
      "remove duplicate events\n",
      "after first selection: 14\n",
      "before second selection: 14\n",
      "remove suspicious events, outlier picks and duplicate associated picks\n",
      "after second selection: 11\n",
      "Relocate the 11 events using a simulated-annealing method\n",
      "Max Setting: Nst 500   Nps 20000 Ntb 20000\n"
     ]
    },
    {
     "name": "stdout",
     "output_type": "stream",
     "text": [
      "Nlat= 11 Nlon= 11 Ndep= 22 Ntotal= 2662\n",
      "20220605\n"
     ]
    },
    {
     "name": "stderr",
     "output_type": "stream",
     "text": [
      "Actual     : Nst 65    Nps 1648  Ntb 20000\n",
      "p-window= nrt*ptw = 1.20 * 5.08 sec = 6.10 sec\n",
      "s-window= nrt*stw = 1.20 * 9.55 sec = 11.46 sec\n",
      "event-window= 11.46 sec\n",
      "Largest distance 1.49 degree was used\n",
      "events with nearest event-station distance > nxd * GCarc0 will be discarded\n",
      "i.e., 0.50 * 1.49 deg. = 82.78 km\n",
      "    1   2022 06 05 02:43:11.573     9791.573  0.8839 45.3299 -123.1252  14.00   4   3   7   2 258.58\n",
      "    2   2022 06 05 05:14:25.584    18865.584  0.7812 45.5918 -122.6399  10.00   4   3   7   2 215.99\n",
      "    3   2022 06 05 06:35:16.351    23716.351  0.9357 45.5132 -121.8748   6.00   4   3   7   1 336.39\n",
      "    4   2022 06 05 08:57:38.909    32258.909  0.9539 45.7081 -123.4413   0.00   4   4   8   1 146.01\n",
      "    5   2022 06 05 09:34:39.298    34479.298  0.9502 45.5214 -122.8205  20.00   4   3   7   1 152.23\n",
      "    6   2022 06 05 11:52:02.495    42722.495  0.7027 45.3065 -123.7601  10.00   4   3   7   1 336.39\n",
      "    7   2022 06 05 14:08:49.947    50929.947  0.9805 45.7214 -122.8205   0.00   4   3   7   1 207.62\n",
      "    8   2022 06 05 14:08:49.947    50929.947  0.9805 45.7214 -122.8205   0.00   4   3   7   1 207.62\n",
      "    9   2022 06 05 16:22:03.947    58923.947  0.7404 45.9163 -123.2318   0.00   4   3   7   1 243.64\n",
      "   10   2022 06 05 17:59:41.374    64781.374  0.9013 45.6320 -123.3543  10.00   4   3   7   2 185.94\n",
      "   11   2022 06 05 19:35:07.460    70507.460  0.9713 45.7413 -123.2993   0.00   4   3   7   1 211.06\n",
      "   12   2022 06 05 20:29:05.736    73745.736  0.8413 45.5132 -122.7325   0.00   4   3   7   3 245.27\n",
      "   13   2022 06 05 20:37:17.032    74237.032  0.7498 45.7413 -122.4416   0.00   5   3   8   1 181.85\n",
      "   14   2022 06 05 22:33:07.685    81187.685  0.9972 45.7525 -122.9491  20.00   4   3   7   2 228.04\n",
      "before first selection: 14\n",
      "remove duplicate events\n",
      "after first selection: 13\n",
      "before second selection: 13\n",
      "remove suspicious events, outlier picks and duplicate associated picks\n",
      "after second selection: 9\n",
      "Relocate the 9 events using a simulated-annealing method\n",
      "Max Setting: Nst 500   Nps 20000 Ntb 20000\n"
     ]
    },
    {
     "name": "stdout",
     "output_type": "stream",
     "text": [
      "Nlat= 11 Nlon= 11 Ndep= 22 Ntotal= 2662\n",
      "20220606\n"
     ]
    },
    {
     "name": "stderr",
     "output_type": "stream",
     "text": [
      "Actual     : Nst 66    Nps 1635  Ntb 20000\n",
      "p-window= nrt*ptw = 1.20 * 5.08 sec = 6.10 sec\n",
      "s-window= nrt*stw = 1.20 * 9.55 sec = 11.46 sec\n",
      "event-window= 11.46 sec\n",
      "Largest distance 1.55 degree was used\n",
      "events with nearest event-station distance > nxd * GCarc0 will be discarded\n",
      "i.e., 0.50 * 1.55 deg. = 86.18 km\n",
      "    1   2022 06 06 00:43:55.276     2635.276  0.9263 45.4513 -123.0799   0.00   5   4   9   3 192.88\n",
      "    2   2022 06 06 04:44:20.330    17060.330  0.9674 45.5131 -122.6188  16.00   4   3   7   2 310.04\n",
      "    3   2022 06 06 05:06:19.638    18379.638  0.7213 45.8423 -122.6529  34.00   4   4   8   1 193.10\n",
      "    4   2022 06 06 10:41:30.226    38490.226  0.8454 45.5401 -122.8681   6.00   4   3   7   3 152.16\n",
      "    5   2022 06 06 12:02:00.174    43320.174  0.9120 45.6170 -123.2576   6.00   4   3   7   1 258.78\n",
      "    6   2022 06 06 15:48:23.162    56903.162  0.8121 45.3753 -122.5011   0.00   4   3   7   1 305.20\n",
      "    7   2022 06 06 17:22:05.882    62525.882  0.9231 45.7877 -123.1782  42.00   5   3   8   1 166.03\n",
      "    8   2022 06 06 19:16:31.994    69391.994  0.9422 46.3004 -122.6733  14.00   4   5   9   1 296.45\n",
      "    9   2022 06 06 19:56:30.705    71790.705  0.9382 45.4513 -123.0799   0.00   5   4   9   1 118.55\n",
      "   10   2022 06 06 22:57:50.389    82670.389  0.9572 45.3214 -122.5346  12.00   4   4   8   2 285.03\n",
      "   11   2022 06 06 23:34:08.353    84848.353  0.9193 45.3065 -122.9024  16.00   5   3   8   1 224.53\n",
      "before first selection: 11\n",
      "remove duplicate events\n",
      "after first selection: 11\n",
      "before second selection: 11\n",
      "remove suspicious events, outlier picks and duplicate associated picks\n",
      "after second selection: 10\n",
      "Relocate the 10 events using a simulated-annealing method\n",
      "Max Setting: Nst 500   Nps 20000 Ntb 20000\n"
     ]
    },
    {
     "name": "stdout",
     "output_type": "stream",
     "text": [
      "Nlat= 11 Nlon= 11 Ndep= 22 Ntotal= 2662\n",
      "20220607\n"
     ]
    },
    {
     "name": "stderr",
     "output_type": "stream",
     "text": [
      "Actual     : Nst 65    Nps 1659  Ntb 20000\n",
      "p-window= nrt*ptw = 1.20 * 5.08 sec = 6.10 sec\n",
      "s-window= nrt*stw = 1.20 * 9.55 sec = 11.46 sec\n",
      "event-window= 11.46 sec\n",
      "Largest distance 1.55 degree was used\n",
      "events with nearest event-station distance > nxd * GCarc0 will be discarded\n",
      "i.e., 0.50 * 1.55 deg. = 86.18 km\n",
      "    1   2022 06 07 01:58:28.992     7108.992  0.8629 45.6134 -122.4928  12.00  61  62 123  60  72.77\n",
      "    2   2022 06 07 04:41:58.595    16918.595  0.9342 44.8885 -122.9558  42.00   4   3   7   1 306.76\n",
      "    3   2022 06 07 04:41:58.595    16918.595  0.9342 44.8885 -122.9558  42.00   4   3   7   1 306.76\n",
      "    4   2022 06 07 07:46:42.211    28002.211  0.9062 45.6134 -122.4928  14.00  20  28  48  20  95.11\n",
      "    5   2022 06 07 07:46:42.211    28002.211  0.9062 45.6134 -122.4928  14.00  20  28  48  20  95.11\n",
      "    6   2022 06 07 12:29:16.738    44956.738  0.8917 45.5494 -123.5539   0.00   5   3   8   3 256.61\n",
      "    7   2022 06 07 14:41:42.431    52902.431  0.9536 45.4576 -122.9818   8.00   4   4   8   3 194.79\n",
      "    8   2022 06 07 15:38:25.363    56305.363  0.8693 45.6809 -123.0495   0.00   5   3   8   1 180.95\n",
      "    9   2022 06 07 16:04:19.599    57859.599  0.8548 45.8592 -123.1167  18.00   4   3   7   1 282.29\n",
      "   10   2022 06 07 16:04:19.599    57859.599  0.8548 45.8592 -123.1167  18.00   4   3   7   1 282.29\n",
      "   11   2022 06 07 16:49:08.015    60548.015  0.7971 45.4423 -122.6529  20.00   4   3   7   2 254.45\n",
      "   12   2022 06 07 18:10:08.964    65408.964  0.9551 45.6592 -123.1167   0.00   4   3   7   1 220.01\n",
      "   13   2022 06 07 22:52:08.934    82328.934  0.9317 45.5401 -122.8681   0.00   4   4   8   1 170.08\n",
      "   14   2022 06 07 23:02:13.730    82933.730  0.7346 46.1753 -122.5011   0.00   4   3   7   1 283.65\n",
      "   15   2022 06 07 23:49:39.678    85779.678  0.8070 45.5753 -122.7870   0.00   4   3   7   2 245.08\n",
      "before first selection: 15\n",
      "remove duplicate events\n",
      "after first selection: 12\n",
      "before second selection: 12\n",
      "remove suspicious events, outlier picks and duplicate associated picks\n",
      "after second selection: 6\n",
      "Relocate the 6 events using a simulated-annealing method\n",
      "Max Setting: Nst 500   Nps 20000 Ntb 20000\n"
     ]
    },
    {
     "name": "stdout",
     "output_type": "stream",
     "text": [
      "Nlat= 11 Nlon= 11 Ndep= 22 Ntotal= 2662\n",
      "20220608\n"
     ]
    },
    {
     "name": "stderr",
     "output_type": "stream",
     "text": [
      "Actual     : Nst 64    Nps 1570  Ntb 20000\n",
      "p-window= nrt*ptw = 1.20 * 5.08 sec = 6.10 sec\n",
      "s-window= nrt*stw = 1.20 * 9.55 sec = 11.46 sec\n",
      "event-window= 11.46 sec\n",
      "Largest distance 1.55 degree was used\n",
      "events with nearest event-station distance > nxd * GCarc0 will be discarded\n",
      "i.e., 0.50 * 1.55 deg. = 86.18 km\n",
      "    1   2022 06 08 00:44:18.643     2658.643  0.8896 45.5132 -122.7325   6.00   4   4   8   2 149.52\n",
      "    2   2022 06 08 00:44:18.895     2658.895  0.9917 45.4809 -122.7636   0.00   4   4   8   2 125.82\n",
      "    3   2022 06 08 01:06:50.826     4010.826  0.8867 45.7103 -123.1487  22.00   4   5   9   4 187.14\n",
      "    4   2022 06 08 03:12:36.212    11556.212  0.7477 45.5877 -122.3205   0.00   5   3   8   1 138.37\n",
      "    5   2022 06 08 12:53:15.367    46395.367  0.8455 45.5106 -122.8560  14.00   4   4   8   2 180.77\n",
      "    6   2022 06 08 14:25:49.018    51949.018  0.9015 45.3753 -122.7870   0.00   5   3   8   1 280.67\n",
      "    7   2022 06 08 15:15:16.518    54916.518  0.8236 44.9494 -122.1244  26.00   4   4   8   1 323.88\n",
      "    8   2022 06 08 15:36:11.894    56171.894  0.9115 46.1081 -123.7272   0.00   4   3   7   2 291.64\n",
      "    9   2022 06 08 16:54:15.489    60855.489  0.8561 45.6790 -122.5228  14.00   5   4   9   1 257.17\n",
      "   10   2022 06 08 17:51:13.226    64273.226  0.9543 45.9103 -123.7205  42.00   4   4   8   1 274.80\n",
      "   11   2022 06 08 20:53:37.068    75217.068  0.4316 45.4513 -123.0799  10.00   4   3   7   2 178.40\n",
      "   12   2022 06 08 21:31:41.435    77501.435  0.8364 45.5673 -121.9718  16.00   4   3   7   1 195.41\n",
      "   13   2022 06 08 22:38:09.126    81489.126  0.8276 45.4695 -122.6276   6.00   4   4   8   3 176.26\n",
      "before first selection: 13\n",
      "remove duplicate events\n",
      "after first selection: 12\n",
      "before second selection: 12\n",
      "remove suspicious events, outlier picks and duplicate associated picks\n",
      "after second selection: 9\n",
      "Relocate the 9 events using a simulated-annealing method\n",
      "Max Setting: Nst 500   Nps 20000 Ntb 20000\n"
     ]
    },
    {
     "name": "stdout",
     "output_type": "stream",
     "text": [
      "Nlat= 11 Nlon= 11 Ndep= 22 Ntotal= 2662\n",
      "20220609\n"
     ]
    },
    {
     "name": "stderr",
     "output_type": "stream",
     "text": [
      "Actual     : Nst 64    Nps 1560  Ntb 20000\n",
      "p-window= nrt*ptw = 1.20 * 5.08 sec = 6.10 sec\n",
      "s-window= nrt*stw = 1.20 * 9.55 sec = 11.46 sec\n",
      "event-window= 11.46 sec\n",
      "Largest distance 1.55 degree was used\n",
      "events with nearest event-station distance > nxd * GCarc0 will be discarded\n",
      "i.e., 0.50 * 1.55 deg. = 86.18 km\n",
      "    1   2022 06 09 00:09:36.807      576.807  0.8217 45.5168 -123.1166  14.00   6   3   9   2 125.94\n",
      "    2   2022 06 09 00:09:36.807      576.807  0.8217 45.5168 -123.1166  14.00   6   3   9   2 125.94\n",
      "    3   2022 06 09 00:09:35.898      575.898  0.9477 45.5081 -123.1554  18.00   6   3   9   2 132.07\n",
      "    4   2022 06 09 00:20:52.598     1252.598  0.7410 45.3163 -122.9459  12.00   4   3   7   1 104.71\n",
      "    5   2022 06 09 03:26:39.319    12399.319  0.8232 45.3494 -122.6962   4.00   4   3   7   1 214.41\n",
      "    6   2022 06 09 03:26:39.319    12399.319  0.8232 45.3494 -122.6962   4.00   4   3   7   1 214.41\n",
      "    7   2022 06 09 04:42:54.029    16974.029  0.9358 45.5189 -122.7816  12.00   4   3   7   2 125.65\n",
      "    8   2022 06 09 06:33:09.502    23589.502  0.8933 45.5299 -122.8393   0.00   5   3   8   2 160.01\n",
      "    9   2022 06 09 06:43:31.760    24211.760  0.9539 45.8695 -123.4853  38.00   4   3   7   1 297.25\n",
      "   10   2022 06 09 06:43:31.350    24211.350  0.9680 45.9703 -123.5692   0.00   4   3   7   1 308.05\n",
      "   11   2022 06 09 13:11:18.259    47478.259  0.7239 45.9070 -122.5513  24.00   4   4   8   1 297.65\n",
      "   12   2022 06 09 18:51:39.979    67899.979  0.7718 45.7494 -121.8385  22.00   4   3   7   1 299.40\n",
      "   13   2022 06 09 19:07:21.597    68841.597  0.9155 45.7103 -123.1487   0.00   5   4   9   3 273.95\n",
      "   14   2022 06 09 20:52:23.068    75143.068  0.9466 45.2885 -122.9558   0.00   4   3   7   2 270.05\n",
      "   15   2022 06 09 23:48:50.096    85730.096  0.7496 45.3081 -123.1554  24.00   4   3   7   2 243.54\n",
      "   16   2022 06 09 23:48:49.881    85729.881  0.7669 45.3555 -123.1726  28.00   4   3   7   2 228.55\n",
      "before first selection: 16\n",
      "remove duplicate events\n",
      "after first selection: 11\n",
      "before second selection: 11\n",
      "remove suspicious events, outlier picks and duplicate associated picks\n",
      "after second selection: 8\n",
      "Relocate the 8 events using a simulated-annealing method\n",
      "Max Setting: Nst 500   Nps 20000 Ntb 20000\n"
     ]
    },
    {
     "name": "stdout",
     "output_type": "stream",
     "text": [
      "Nlat= 11 Nlon= 11 Ndep= 22 Ntotal= 2662\n",
      "20220610\n"
     ]
    },
    {
     "name": "stderr",
     "output_type": "stream",
     "text": [
      "Actual     : Nst 67    Nps 1474  Ntb 20000\n",
      "p-window= nrt*ptw = 1.20 * 5.08 sec = 6.10 sec\n",
      "s-window= nrt*stw = 1.20 * 9.55 sec = 11.46 sec\n",
      "event-window= 11.46 sec\n",
      "Largest distance 1.55 degree was used\n",
      "events with nearest event-station distance > nxd * GCarc0 will be discarded\n",
      "i.e., 0.50 * 1.55 deg. = 86.18 km\n",
      "    1   2022 06 10 03:19:52.348    11992.348  0.6997 45.5061 -122.5996   4.00   5   3   8   2 316.46\n",
      "    2   2022 06 10 03:40:06.926    13206.926  0.9176 45.7350 -122.7017  12.00   5   4   9   3 155.91\n",
      "    3   2022 06 10 05:23:44.930    19424.930  0.9626 45.5555 -122.0291  28.00   4   3   7   1 330.99\n",
      "    4   2022 06 10 05:23:44.930    19424.930  0.9626 45.5555 -122.0291  28.00   4   3   7   1 330.99\n",
      "    5   2022 06 10 09:08:54.200    32934.200  0.7194 45.3703 -122.9974  14.00   4   3   7   2 249.05\n",
      "    6   2022 06 10 12:53:19.118    46399.118  0.9441 45.4937 -122.3718   0.00   4   3   7   1 298.61\n",
      "    7   2022 06 10 13:03:04.974    46984.974  0.9693 45.5106 -122.5701  14.00   4   3   7   1 170.63\n",
      "    8   2022 06 10 13:03:04.974    46984.974  0.9693 45.5106 -122.5701  14.00   4   3   7   1 170.63\n",
      "    9   2022 06 10 15:12:40.937    54760.937  0.8780 45.4642 -123.5123   0.00   4   3   7   1 178.22\n",
      "   10   2022 06 10 15:12:40.937    54760.937  0.8780 45.4642 -123.5123   0.00   4   3   7   1 178.22\n",
      "   11   2022 06 10 15:57:03.462    57423.462  0.8260 45.6937 -123.8013  26.00   5   4   9   2 263.58\n",
      "   12   2022 06 10 18:17:22.050    65842.050  0.8892 45.6790 -122.8087   6.00   4   3   7   1 165.59\n",
      "before first selection: 12\n",
      "remove duplicate events\n",
      "after first selection: 9\n",
      "before second selection: 9\n",
      "remove suspicious events, outlier picks and duplicate associated picks\n",
      "after second selection: 8\n",
      "Relocate the 8 events using a simulated-annealing method\n",
      "Max Setting: Nst 500   Nps 20000 Ntb 20000\n"
     ]
    },
    {
     "name": "stdout",
     "output_type": "stream",
     "text": [
      "Nlat= 11 Nlon= 11 Ndep= 22 Ntotal= 2662\n",
      "20220611\n"
     ]
    },
    {
     "name": "stderr",
     "output_type": "stream",
     "text": [
      "Actual     : Nst 64    Nps 1591  Ntb 20000\n",
      "p-window= nrt*ptw = 1.20 * 5.08 sec = 6.10 sec\n",
      "s-window= nrt*stw = 1.20 * 9.55 sec = 11.46 sec\n",
      "event-window= 11.46 sec\n",
      "Largest distance 1.55 degree was used\n",
      "events with nearest event-station distance > nxd * GCarc0 will be discarded\n",
      "i.e., 0.50 * 1.55 deg. = 86.18 km\n",
      "    1   2022 06 11 01:48:21.585     6501.585  0.9651 45.5065 -122.9024  22.00   6   4  10   2 178.11\n",
      "    2   2022 06 11 06:32:42.669    23562.669  0.9568 45.4540 -122.6050   0.00   4   3   7   2 158.41\n",
      "    3   2022 06 11 08:49:05.025    31745.025  0.8640 45.3925 -123.3252   0.00   4   3   7   3 211.76\n",
      "    4   2022 06 11 09:40:26.423    34826.423  0.9230 45.4790 -122.9982   0.00   4   3   7   1 173.35\n",
      "    5   2022 06 11 09:40:26.131    34826.131  0.7779 45.4786 -123.0175   0.00   4   3   7   1 173.76\n",
      "    6   2022 06 11 15:47:04.025    56824.025  0.9242 45.4140 -123.2606  14.00   5   3   8   2 187.86\n",
      "    7   2022 06 11 15:47:03.950    56823.950  0.9715 45.3703 -123.2833  12.00   5   3   8   2 197.93\n",
      "    8   2022 06 11 16:11:08.634    58268.634  0.8754 45.5925 -121.6098  24.00   4   3   7   1 300.52\n",
      "    9   2022 06 11 17:14:07.091    62047.091  0.9672 45.3918 -122.9258  20.00   4   3   7   2 141.69\n",
      "   10   2022 06 11 19:58:26.481    71906.481  0.9822 45.6513 -123.0799   0.00   5   3   8   2 178.33\n",
      "   11   2022 06 11 22:48:37.549    82117.549  0.7460 45.4937 -123.2295  10.00   6   3   9   2 142.07\n",
      "   12   2022 06 11 22:48:37.549    82117.549  0.7460 45.4937 -123.2295  10.00   6   3   9   2 142.07\n",
      "   13   2022 06 11 23:40:21.162    85221.162  0.9637 45.2793 -122.9080   0.00   4   3   7   2 214.81\n",
      "   14   2022 06 11 23:43:53.682    85433.682  0.8063 45.6937 -123.2295   0.00   4   3   7   2 238.78\n",
      "before first selection: 14\n",
      "remove duplicate events\n",
      "after first selection: 11\n",
      "before second selection: 11\n",
      "remove suspicious events, outlier picks and duplicate associated picks\n",
      "after second selection: 8\n",
      "Relocate the 8 events using a simulated-annealing method\n",
      "Max Setting: Nst 500   Nps 20000 Ntb 20000\n"
     ]
    },
    {
     "name": "stdout",
     "output_type": "stream",
     "text": [
      "Nlat= 11 Nlon= 11 Ndep= 22 Ntotal= 2662\n",
      "20220612\n"
     ]
    },
    {
     "name": "stderr",
     "output_type": "stream",
     "text": [
      "Actual     : Nst 65    Nps 1608  Ntb 20000\n",
      "p-window= nrt*ptw = 1.20 * 5.08 sec = 6.10 sec\n",
      "s-window= nrt*stw = 1.20 * 9.55 sec = 11.46 sec\n",
      "event-window= 11.46 sec\n",
      "Largest distance 1.55 degree was used\n",
      "events with nearest event-station distance > nxd * GCarc0 will be discarded\n",
      "i.e., 0.50 * 1.55 deg. = 86.18 km\n",
      "    1   2022 06 12 00:23:00.770     1380.770  0.9910 45.3761 -123.3459   0.00   4   3   7   1 279.23\n",
      "    2   2022 06 12 03:13:04.883    11584.883  0.8637 45.7081 -122.8695   0.00   4   3   7   3 261.62\n",
      "    3   2022 06 12 04:21:22.680    15682.680  0.9336 45.7132 -123.0184   0.00   4   3   7   2 138.44\n",
      "    4   2022 06 12 06:18:37.601    22717.601  0.8082 45.5494 -122.6962  16.00   4   3   7   1 321.96\n",
      "    5   2022 06 12 09:54:54.640    35694.640  0.9087 45.4786 -122.7316   0.00   5   4   9   2 184.58\n",
      "    6   2022 06 12 13:31:20.512    48680.512  0.9188 45.7967 -122.7142  16.00   4   5   9   1 213.09\n",
      "    7   2022 06 12 13:37:17.343    49037.343  0.9114 45.5103 -123.1487   0.00   4   3   7   2 135.07\n",
      "    8   2022 06 12 16:28:23.303    59303.303  0.9813 45.6885 -122.9558  16.00   5   3   8   2 260.25\n",
      "    9   2022 06 12 18:21:54.179    66114.179  0.9757 45.3525 -123.2350   0.00   4   4   8   2 175.53\n",
      "   10   2022 06 12 23:10:04.226    83404.226  0.9138 45.2513 -123.0799   0.00   4   3   7   2 217.66\n",
      "   11   2022 06 12 23:10:04.226    83404.226  0.9138 45.2513 -123.0799   0.00   4   3   7   2 217.66\n",
      "   12   2022 06 12 23:55:40.947    86140.947  0.9204 45.5472 -122.7565  12.00   6   3   9   1  91.57\n",
      "before first selection: 12\n",
      "remove duplicate events\n",
      "after first selection: 11\n",
      "before second selection: 11\n",
      "remove suspicious events, outlier picks and duplicate associated picks\n",
      "after second selection: 8\n",
      "Relocate the 8 events using a simulated-annealing method\n",
      "Max Setting: Nst 500   Nps 20000 Ntb 20000\n"
     ]
    },
    {
     "name": "stdout",
     "output_type": "stream",
     "text": [
      "Nlat= 11 Nlon= 11 Ndep= 22 Ntotal= 2662\n",
      "20220613\n"
     ]
    },
    {
     "name": "stderr",
     "output_type": "stream",
     "text": [
      "Actual     : Nst 63    Nps 1633  Ntb 20000\n",
      "p-window= nrt*ptw = 1.20 * 5.08 sec = 6.10 sec\n",
      "s-window= nrt*stw = 1.20 * 9.55 sec = 11.46 sec\n",
      "event-window= 11.46 sec\n",
      "Largest distance 1.55 degree was used\n",
      "events with nearest event-station distance > nxd * GCarc0 will be discarded\n",
      "i.e., 0.50 * 1.55 deg. = 86.18 km\n",
      "    1   2022 06 13 00:07:10.487      430.487  0.8536 45.5132 -122.4466   0.00   4   3   7   2 312.33\n",
      "    2   2022 06 13 00:07:10.487      430.487  0.8536 45.5132 -122.4466   0.00   4   3   7   2 312.33\n",
      "    3   2022 06 13 03:44:48.154    13488.154  0.8684 45.9918 -123.4976  38.00   4   3   7   1 290.61\n",
      "    4   2022 06 13 07:21:26.213    26486.213  0.6765 45.5132 -122.7325   6.00   4   3   7   1 105.89\n",
      "    5   2022 06 13 09:17:57.054    33477.054  0.9906 44.9044 -123.4616  42.00   4   3   7   3 338.09\n",
      "    6   2022 06 13 09:17:57.445    33477.445  0.9835 45.1918 -123.7835  42.00   4   3   7   3 347.14\n",
      "    7   2022 06 13 13:38:58.536    49138.536  0.9001 45.5131 -122.6188   0.00   4   4   8   2 106.19\n",
      "    8   2022 06 13 13:38:58.336    49138.336  0.8580 45.5023 -122.6243   0.00   4   4   8   2 158.85\n",
      "    9   2022 06 13 13:39:21.578    49161.578  0.7033 45.5703 -123.2833   4.00   4   3   7   3 307.65\n",
      "   10   2022 06 13 14:38:36.072    52716.072  0.8956 45.6809 -123.0495  16.00   4   4   8   2 157.50\n",
      "   11   2022 06 13 15:01:28.953    54088.953  0.9938 45.4584 -122.6837   2.00   6   4  10   2 217.38\n",
      "   12   2022 06 13 15:59:33.942    57573.942  0.9863 45.2592 -122.5449   2.00   4   4   8   1 166.91\n",
      "   13   2022 06 13 15:59:33.942    57573.942  0.9863 45.2592 -122.5449   2.00   4   4   8   1 166.91\n",
      "   14   2022 06 13 16:40:38.073    60038.073  0.9186 45.5555 -122.6009   0.00   4   3   7   2 326.02\n",
      "   15   2022 06 13 17:14:33.378    62073.378  0.9475 46.0642 -122.9405  20.00   5   5  10   2 301.89\n",
      "   16   2022 06 13 18:04:40.592    65080.592  0.6460 45.9929 -122.2912  26.00   4   4   8   1 302.80\n",
      "   17   2022 06 13 19:19:59.701    69599.701  0.8968 45.1555 -122.8868  28.00   4   5   9   2 264.34\n",
      "   18   2022 06 13 19:19:59.833    69599.833  0.8595 45.1877 -122.8923  32.00   4   5   9   2 259.86\n",
      "   19   2022 06 13 20:48:20.463    74900.463  0.9398 45.3703 -122.7115  42.00   7   3  10   1 201.72\n",
      "   20   2022 06 13 20:48:21.495    74901.495  0.8211 45.4140 -122.7944  42.00   7   3  10   1 160.72\n",
      "   21   2022 06 13 20:57:20.817    75440.817  0.8238 45.6169 -123.1034  36.00   5   3   8   1 124.01\n",
      "before first selection: 21\n",
      "remove duplicate events\n",
      "after first selection: 15\n",
      "before second selection: 15\n",
      "remove suspicious events, outlier picks and duplicate associated picks\n",
      "after second selection: 11\n",
      "Relocate the 11 events using a simulated-annealing method\n",
      "Max Setting: Nst 500   Nps 20000 Ntb 20000\n"
     ]
    },
    {
     "name": "stdout",
     "output_type": "stream",
     "text": [
      "Nlat= 11 Nlon= 11 Ndep= 22 Ntotal= 2662\n",
      "20220614\n"
     ]
    },
    {
     "name": "stderr",
     "output_type": "stream",
     "text": [
      "Actual     : Nst 62    Nps 1601  Ntb 20000\n",
      "p-window= nrt*ptw = 1.20 * 5.08 sec = 6.10 sec\n",
      "s-window= nrt*stw = 1.20 * 9.55 sec = 11.46 sec\n",
      "event-window= 11.46 sec\n",
      "Largest distance 1.51 degree was used\n",
      "events with nearest event-station distance > nxd * GCarc0 will be discarded\n",
      "i.e., 0.50 * 1.51 deg. = 84.21 km\n",
      "    1   2022 06 14 13:50:28.320    49828.320  0.9989 45.5131 -123.1906   6.00   4   4   8   2 207.70\n",
      "    2   2022 06 14 13:54:47.495    50087.495  0.9015 45.6576 -122.6959   0.00   4   4   8   2 260.47\n",
      "    3   2022 06 14 14:36:06.800    52566.800  0.9459 45.2937 -122.9436  16.00   4   4   8   1 206.90\n",
      "    4   2022 06 14 15:22:38.013    55358.013  0.7958 45.5918 -122.9258   0.00   4   3   7   1 131.70\n",
      "    5   2022 06 14 17:37:40.432    63460.432  0.8722 45.5918 -123.2117   0.00   4   4   8   2 149.66\n",
      "    6   2022 06 14 17:47:58.534    64078.534  0.9945 45.2576 -123.8395  18.00   4   3   7   1 328.16\n",
      "    7   2022 06 14 22:05:40.089    79540.089  0.7003 45.4140 -123.2606  10.00   4   3   7   1 162.35\n",
      "    8   2022 06 14 22:40:47.879    81647.879  0.8949 45.3081 -123.7272   0.00   4   4   8   1 316.06\n",
      "    9   2022 06 14 22:40:47.879    81647.879  0.8949 45.3081 -123.7272   0.00   4   4   8   1 316.06\n",
      "   10   2022 06 14 23:29:21.030    84561.030  0.9106 45.2937 -122.6577   6.00   6   3   9   1 264.75\n",
      "before first selection: 10\n",
      "remove duplicate events\n",
      "after first selection: 9\n",
      "before second selection: 9\n",
      "remove suspicious events, outlier picks and duplicate associated picks\n",
      "after second selection: 5\n",
      "Relocate the 5 events using a simulated-annealing method\n",
      "Max Setting: Nst 500   Nps 20000 Ntb 20000\n"
     ]
    },
    {
     "name": "stdout",
     "output_type": "stream",
     "text": [
      "Nlat= 11 Nlon= 11 Ndep= 22 Ntotal= 2662\n",
      "20220615\n"
     ]
    },
    {
     "name": "stderr",
     "output_type": "stream",
     "text": [
      "Actual     : Nst 61    Nps 1577  Ntb 20000\n",
      "p-window= nrt*ptw = 1.20 * 5.08 sec = 6.10 sec\n",
      "s-window= nrt*stw = 1.20 * 9.55 sec = 11.46 sec\n",
      "event-window= 11.46 sec\n",
      "Largest distance 1.27 degree was used\n",
      "events with nearest event-station distance > nxd * GCarc0 will be discarded\n",
      "i.e., 0.50 * 1.27 deg. = 70.38 km\n",
      "    1   2022 06 15 03:14:31.266    11671.266  0.4595 45.6809 -123.6213  38.00   4   3   7   1 295.90\n",
      "    2   2022 06 15 07:17:04.293    26224.293  0.8943 45.5555 -122.6009  14.00   4   4   8   2 326.02\n",
      "    3   2022 06 15 07:27:24.873    26844.873  0.9122 45.7555 -122.8868  14.00   4   3   7   2 159.39\n",
      "    4   2022 06 15 08:53:05.689    31985.689  0.8345 45.7214 -123.1064  12.00   4   3   7   1 257.79\n",
      "    5   2022 06 15 10:03:01.389    36181.389  0.7798 45.3703 -123.2833  34.00   4   3   7   1 298.54\n",
      "    6   2022 06 15 10:15:15.262    36915.262  0.8288 45.8584 -123.5414  26.00   4   5   9   3 226.63\n",
      "    7   2022 06 15 10:15:15.262    36915.262  0.8288 45.8584 -123.5414  26.00   4   5   9   3 226.63\n",
      "    8   2022 06 15 10:24:34.942    37474.942  0.4771 45.7877 -122.8923  18.00   4   3   7   2 334.30\n",
      "    9   2022 06 15 11:56:32.159    42992.159  0.9903 45.9023 -123.1961   0.00   9   3  12   2 218.30\n",
      "   10   2022 06 15 14:46:52.191    53212.191  0.8950 45.7131 -123.1906  18.00   5   4   9   2 131.03\n",
      "   11   2022 06 15 14:51:30.882    53490.882  0.9268 45.5967 -123.2860  12.00   5   5  10   2 184.93\n",
      "   12   2022 06 15 16:18:44.516    58724.516  0.8013 45.1131 -123.4765  42.00   4   3   7   1 305.84\n",
      "   13   2022 06 15 20:19:32.594    73172.594  0.9365 45.3023 -123.1961   0.00   5   6  11   2 238.62\n",
      "   14   2022 06 15 22:19:26.720    80366.720  0.9895 45.6423 -122.9388   0.00   4   3   7   1 248.10\n",
      "before first selection: 14\n",
      "remove duplicate events\n",
      "after first selection: 13\n",
      "before second selection: 13\n",
      "remove suspicious events, outlier picks and duplicate associated picks\n",
      "after second selection: 12\n",
      "Relocate the 12 events using a simulated-annealing method\n",
      "Max Setting: Nst 500   Nps 20000 Ntb 20000\n"
     ]
    },
    {
     "name": "stdout",
     "output_type": "stream",
     "text": [
      "Nlat= 11 Nlon= 11 Ndep= 22 Ntotal= 2662\n",
      "20220616\n"
     ]
    },
    {
     "name": "stderr",
     "output_type": "stream",
     "text": [
      "Actual     : Nst 66    Nps 1551  Ntb 20000\n",
      "p-window= nrt*ptw = 1.20 * 5.08 sec = 6.10 sec\n",
      "s-window= nrt*stw = 1.20 * 9.55 sec = 11.46 sec\n",
      "event-window= 11.46 sec\n",
      "Largest distance 1.55 degree was used\n",
      "events with nearest event-station distance > nxd * GCarc0 will be discarded\n",
      "i.e., 0.50 * 1.55 deg. = 86.18 km\n",
      "    1   2022 06 16 00:34:46.271     2086.271  0.9717 46.0790 -122.8087   0.00   4   3   7   1 317.08\n",
      "    2   2022 06 16 03:33:14.694    12794.694  0.9666 45.5132 -123.5902   2.00   4   4   8   2 281.39\n",
      "    3   2022 06 16 03:58:23.120    14303.120  0.8811 45.5106 -122.5701   6.00   4   3   7   1 300.62\n",
      "    4   2022 06 16 04:11:30.345    15090.345  0.7157 45.1132 -122.4466   0.00   4   3   7   2 322.08\n",
      "    5   2022 06 16 09:12:40.420    33160.420  0.6851 45.5132 -121.8748  26.00   4   4   8   1 308.91\n",
      "    6   2022 06 16 14:08:32.562    50912.562  0.9513 45.3703 -122.7115   8.00   5   3   8   2 239.75\n",
      "    7   2022 06 16 15:48:20.476    56900.476  0.8810 45.7189 -123.0675  26.00   6   4  10   1 181.54\n",
      "    8   2022 06 16 17:17:34.767    62254.767  0.7575 45.4809 -123.3354  10.00   4   4   8   1 144.28\n",
      "    9   2022 06 16 18:02:37.244    64957.244  0.9891 45.5168 -123.4025  16.00   4   6  10   1 202.80\n",
      "   10   2022 06 16 18:24:54.129    66294.129  0.9148 45.5132 -122.7325   2.00   4   3   7   1 127.14\n",
      "   11   2022 06 16 20:20:06.064    73206.064  0.9164 45.4170 -122.6858  22.00   5   3   8   2 245.84\n",
      "   12   2022 06 16 20:20:06.064    73206.064  0.9164 45.4170 -122.6858  22.00   5   3   8   2 245.84\n",
      "   13   2022 06 16 21:54:12.407    78852.407  0.9139 45.4113 -124.0098   0.00   5   3   8   1 340.72\n",
      "before first selection: 13\n",
      "remove duplicate events\n",
      "after first selection: 12\n",
      "before second selection: 12\n",
      "remove suspicious events, outlier picks and duplicate associated picks\n",
      "after second selection: 9\n",
      "Relocate the 9 events using a simulated-annealing method\n",
      "Max Setting: Nst 500   Nps 20000 Ntb 20000\n"
     ]
    },
    {
     "name": "stdout",
     "output_type": "stream",
     "text": [
      "Nlat= 11 Nlon= 11 Ndep= 22 Ntotal= 2662\n",
      "20220617\n"
     ]
    },
    {
     "name": "stderr",
     "output_type": "stream",
     "text": [
      "Actual     : Nst 63    Nps 1636  Ntb 20000\n",
      "p-window= nrt*ptw = 1.20 * 5.08 sec = 6.10 sec\n",
      "s-window= nrt*stw = 1.20 * 9.55 sec = 11.46 sec\n",
      "event-window= 11.46 sec\n",
      "Largest distance 1.55 degree was used\n",
      "events with nearest event-station distance > nxd * GCarc0 will be discarded\n",
      "i.e., 0.50 * 1.55 deg. = 86.18 km\n",
      "    1   2022 06 17 00:14:01.742      841.742  0.8491 45.8885 -123.2417  12.00   5   3   8   1 265.56\n",
      "    2   2022 06 17 02:10:54.370     7854.370  0.7348 45.5299 -122.8393   0.00   5   3   8   2 131.97\n",
      "    3   2022 06 17 02:50:27.463    10227.463  0.9802 45.3703 -122.1397   8.00   5   3   8   1 287.53\n",
      "    4   2022 06 17 03:04:52.046    11092.046  0.9962 45.5081 -122.8695  34.00   7   3  10   1 134.77\n",
      "    5   2022 06 17 03:04:52.046    11092.046  0.9962 45.5081 -122.8695  34.00   7   3  10   1 134.77\n",
      "    6   2022 06 17 04:06:51.842    14811.842  0.9226 45.7703 -122.9974  14.00   4   4   8   1 213.32\n",
      "    7   2022 06 17 07:36:36.159    27396.159  0.8191 45.2940 -122.6051  24.00   5   3   8   1 129.65\n",
      "    8   2022 06 17 11:33:32.528    41612.528  0.9843 45.1106 -123.7137  40.00   4   4   8   2 347.13\n",
      "    9   2022 06 17 12:39:02.598    45542.598  0.8019 45.7401 -123.7257  14.00   4   3   7   1 250.07\n",
      "   10   2022 06 17 15:43:35.441    56615.441  0.9982 45.8113 -122.0085  42.00   6   4  10   1 221.48\n",
      "   11   2022 06 17 17:26:32.096    62792.096  0.9047 44.7753 -121.3575   6.00   8   3  11   1 318.86\n",
      "   12   2022 06 17 18:07:11.157    65231.157  0.9814 45.3472 -122.7565  36.00  16  13  29  11 126.55\n",
      "   13   2022 06 17 19:21:29.068    69689.068  0.8463 45.7605 -122.2843  42.00   5   4   9   1 241.98\n",
      "   14   2022 06 17 19:21:28.595    69688.595  0.9893 45.9413 -122.4416  42.00   5   4   9   1 244.52\n",
      "   15   2022 06 17 20:27:06.077    73626.077  0.8991 45.3324 -122.7683  18.00   4   3   7   2 272.93\n",
      "   16   2022 06 17 20:34:42.992    74082.992  0.6856 45.5132 -122.7325   0.00   4   3   7   2 256.74\n",
      "   17   2022 06 17 21:39:08.881    77948.881  0.9490 45.7163 -123.2318   0.00   4   3   7   1 235.85\n",
      "   18   2022 06 17 22:58:24.934    82704.934  0.5170 45.5413 -122.7275   6.00   4   5   9   2 158.10\n",
      "before first selection: 18\n",
      "remove duplicate events\n",
      "after first selection: 16\n",
      "before second selection: 16\n",
      "remove suspicious events, outlier picks and duplicate associated picks\n",
      "after second selection: 9\n",
      "Relocate the 9 events using a simulated-annealing method\n",
      "Max Setting: Nst 500   Nps 20000 Ntb 20000\n"
     ]
    },
    {
     "name": "stdout",
     "output_type": "stream",
     "text": [
      "Nlat= 11 Nlon= 11 Ndep= 22 Ntotal= 2662\n",
      "20220618\n"
     ]
    },
    {
     "name": "stderr",
     "output_type": "stream",
     "text": [
      "Actual     : Nst 66    Nps 1524  Ntb 20000\n",
      "p-window= nrt*ptw = 1.20 * 5.08 sec = 6.10 sec\n",
      "s-window= nrt*stw = 1.20 * 9.55 sec = 11.46 sec\n",
      "event-window= 11.46 sec\n",
      "Largest distance 1.55 degree was used\n",
      "events with nearest event-station distance > nxd * GCarc0 will be discarded\n",
      "i.e., 0.50 * 1.55 deg. = 86.18 km\n",
      "    1   2022 06 18 06:30:22.465    23422.465  0.9295 45.5555 -122.8868   0.00   4   3   7   3 187.44\n",
      "    2   2022 06 18 06:30:22.465    23422.465  0.9295 45.5555 -122.8868   0.00   4   3   7   3 187.44\n",
      "    3   2022 06 18 15:46:57.769    56817.769  0.9225 45.3004 -121.8156   0.00   4   3   7   1 315.29\n",
      "    4   2022 06 18 16:24:51.712    59091.712  0.5622 45.6423 -122.9388  36.00   5   3   8   1 203.21\n",
      "    5   2022 06 18 16:31:18.760    59478.760  0.8473 45.4169 -122.5316   0.00   5   4   9   1 259.86\n",
      "    6   2022 06 18 17:08:51.882    61731.882  0.9979 45.3703 -122.7115   0.00   4   3   7   2 281.46\n",
      "    7   2022 06 18 18:49:47.523    67787.523  0.7107 45.4937 -122.6577   2.00   4   3   7   2 248.52\n",
      "    8   2022 06 18 19:10:48.114    69048.114  0.9701 45.4576 -123.2677   0.00   4   3   7   1 184.22\n",
      "before first selection: 8\n",
      "remove duplicate events\n",
      "after first selection: 7\n",
      "before second selection: 7\n",
      "remove suspicious events, outlier picks and duplicate associated picks\n",
      "after second selection: 6\n",
      "Relocate the 6 events using a simulated-annealing method\n",
      "Max Setting: Nst 500   Nps 20000 Ntb 20000\n"
     ]
    },
    {
     "name": "stdout",
     "output_type": "stream",
     "text": [
      "Nlat= 11 Nlon= 11 Ndep= 22 Ntotal= 2662\n",
      "20220619\n"
     ]
    },
    {
     "name": "stderr",
     "output_type": "stream",
     "text": [
      "Actual     : Nst 64    Nps 1603  Ntb 20000\n",
      "p-window= nrt*ptw = 1.20 * 5.08 sec = 6.10 sec\n",
      "s-window= nrt*stw = 1.20 * 9.55 sec = 11.46 sec\n",
      "event-window= 11.46 sec\n",
      "Largest distance 1.55 degree was used\n",
      "events with nearest event-station distance > nxd * GCarc0 will be discarded\n",
      "i.e., 0.50 * 1.55 deg. = 86.18 km\n",
      "    1   2022 06 19 01:04:56.743     3896.743  0.9962 45.5044 -122.8898  14.00   4   3   7   1 215.26\n",
      "    2   2022 06 19 01:04:56.743     3896.743  0.9962 45.5044 -122.8898  14.00   4   3   7   1 215.26\n",
      "    3   2022 06 19 01:28:37.827     5317.827  0.9747 45.7918 -122.9258   8.00   4   3   7   1 189.16\n",
      "    4   2022 06 19 01:33:23.057     5603.057  0.8674 45.5753 -122.7870   0.00   4   3   7   2 184.96\n",
      "    5   2022 06 19 03:54:21.208    14061.208  0.9991 45.5555 -122.8868   4.00   5   3   8   2 182.10\n",
      "    6   2022 06 19 06:09:02.676    22142.676  0.9922 45.7106 -122.8560   8.00   4   3   7   2 258.77\n",
      "    7   2022 06 19 07:32:54.737    27174.737  0.7727 45.5214 -122.8205   2.00   4   3   7   2 166.86\n",
      "    8   2022 06 19 10:02:42.174    36162.174  0.7011 45.3065 -123.7601  42.00   4   3   7   1 318.55\n",
      "    9   2022 06 19 13:30:28.289    48628.289  0.9025 44.8790 -123.0946  42.00   7   4  11   1 296.11\n",
      "   10   2022 06 19 16:10:48.197    58248.197  0.9657 46.0169 -122.5316  12.00   4   3   7   1 249.50\n",
      "   11   2022 06 19 16:45:15.154    60315.154  0.6647 45.2885 -122.3840  20.00   4   3   7   1 235.30\n",
      "   12   2022 06 19 16:51:47.757    60707.757  0.9353 45.7023 -122.3384  12.00   4   3   7   2 203.62\n",
      "   13   2022 06 19 20:46:09.726    74769.726  0.7833 45.3132 -123.0184  20.00   5   3   8   2 249.44\n",
      "   14   2022 06 19 21:26:17.186    77177.186  0.9851 45.3929 -123.4348  34.00   5   3   8   1 240.45\n",
      "   15   2022 06 19 23:20:38.164    84038.164  0.8554 45.6793 -122.9080   0.00   4   3   7   2 245.43\n",
      "   16   2022 06 19 23:26:37.447    84397.447  0.9742 45.7044 -122.8898  18.00   6   3   9   2 119.90\n",
      "before first selection: 16\n",
      "remove duplicate events\n",
      "after first selection: 15\n",
      "before second selection: 15\n",
      "remove suspicious events, outlier picks and duplicate associated picks\n",
      "after second selection: 11\n",
      "Relocate the 11 events using a simulated-annealing method\n",
      "Max Setting: Nst 500   Nps 20000 Ntb 20000\n"
     ]
    },
    {
     "name": "stdout",
     "output_type": "stream",
     "text": [
      "Nlat= 11 Nlon= 11 Ndep= 22 Ntotal= 2662\n",
      "20220621\n"
     ]
    },
    {
     "name": "stderr",
     "output_type": "stream",
     "text": [
      "Actual     : Nst 63    Nps 1653  Ntb 20000\n",
      "p-window= nrt*ptw = 1.20 * 5.08 sec = 6.10 sec\n",
      "s-window= nrt*stw = 1.20 * 9.55 sec = 11.46 sec\n",
      "event-window= 11.46 sec\n",
      "Largest distance 1.55 degree was used\n",
      "events with nearest event-station distance > nxd * GCarc0 will be discarded\n",
      "i.e., 0.50 * 1.55 deg. = 86.18 km\n",
      "    1   2022 06 21 01:14:22.386     4462.386  0.9197 45.4885 -123.2417  20.00   5   3   8   3 207.25\n",
      "    2   2022 06 21 02:59:46.825    10786.825  0.9177 45.5929 -123.1489  14.00   6   3   9   2 144.93\n",
      "    3   2022 06 21 02:59:46.825    10786.825  0.9177 45.5929 -123.1489  14.00   6   3   9   2 144.93\n",
      "    4   2022 06 21 03:18:06.232    11886.232  0.9173 45.7163 -122.6600  16.00   5   3   8   1 325.34\n",
      "    5   2022 06 21 04:03:06.919    14586.919  0.7340 45.4576 -122.9818  22.00   5   3   8   2 178.00\n",
      "    6   2022 06 21 12:37:55.599    45475.599  0.7835 45.5413 -123.2993  10.00   5   3   8   2 173.40\n",
      "    7   2022 06 21 15:16:38.701    54998.701  0.7259 45.4790 -123.2841   2.00   4   3   7   2 131.52\n",
      "    8   2022 06 21 17:39:25.787    63565.787  0.9662 45.4885 -122.6699  16.00   6   3   9   1 114.92\n",
      "    9   2022 06 21 17:46:39.573    63999.573  0.9277 46.5350 -123.5594  32.00   6   5  11   1 321.18\n",
      "   10   2022 06 21 23:57:24.148    86244.148  0.9865 45.4885 -122.9558   0.00   4   3   7   3 184.13\n",
      "before first selection: 10\n",
      "remove duplicate events\n",
      "after first selection: 9\n",
      "before second selection: 9\n",
      "remove suspicious events, outlier picks and duplicate associated picks\n",
      "after second selection: 6\n",
      "Relocate the 6 events using a simulated-annealing method\n",
      "Max Setting: Nst 500   Nps 20000 Ntb 20000\n"
     ]
    },
    {
     "name": "stdout",
     "output_type": "stream",
     "text": [
      "Nlat= 11 Nlon= 11 Ndep= 22 Ntotal= 2662\n",
      "20220622\n"
     ]
    },
    {
     "name": "stderr",
     "output_type": "stream",
     "text": [
      "Actual     : Nst 61    Nps 1606  Ntb 20000\n",
      "p-window= nrt*ptw = 1.20 * 5.08 sec = 6.10 sec\n",
      "s-window= nrt*stw = 1.20 * 9.55 sec = 11.46 sec\n",
      "event-window= 11.46 sec\n",
      "Largest distance 1.55 degree was used\n",
      "events with nearest event-station distance > nxd * GCarc0 will be discarded\n",
      "i.e., 0.50 * 1.55 deg. = 86.18 km\n",
      "    1   2022 06 22 02:00:49.674     7249.674  0.5242 45.5555 -123.4585  40.00   4   3   7   1 155.08\n",
      "    2   2022 06 22 04:17:21.787    15441.787  0.7268 45.2113 -123.1521   0.00   4   4   8   1 220.49\n",
      "    3   2022 06 22 05:24:49.595    19489.595  0.6850 45.5703 -122.4256   0.00   4   3   7   1 186.96\n",
      "    4   2022 06 22 07:13:39.330    26019.330  0.7357 45.3044 -122.8898  22.00   4   3   7   3 286.23\n",
      "    5   2022 06 22 13:22:15.409    48135.409  0.8919 45.2790 -122.9982   6.00   4   3   7   1 128.02\n",
      "    6   2022 06 22 14:00:50.907    50450.907  0.8903 45.5004 -122.9592  28.00   4   3   7   1 134.55\n",
      "    7   2022 06 22 15:39:33.338    56373.338  0.7603 45.3413 -123.0134   8.00   6   5  11   1 145.36\n",
      "    8   2022 06 22 16:14:16.770    58456.770  0.9081 45.6940 -123.1769  36.00   4   3   7   1 124.00\n",
      "    9   2022 06 22 18:47:50.311    67670.311  0.7395 45.5494 -123.2680   0.00   4   3   7   1 301.40\n",
      "   10   2022 06 22 19:09:16.098    68956.098  0.9391 45.5081 -123.4413  14.00   4   3   7   1 319.70\n",
      "   11   2022 06 22 19:09:18.025    68958.025  0.4541 45.4790 -123.2841  14.00   4   3   7   1 207.01\n",
      "   12   2022 06 22 23:33:02.931    84782.931  0.9844 45.6885 -122.9558  22.00   4   3   7   1 260.62\n",
      "before first selection: 12\n",
      "remove duplicate events\n",
      "after first selection: 11\n",
      "before second selection: 11\n",
      "remove suspicious events, outlier picks and duplicate associated picks\n",
      "after second selection: 7\n",
      "Relocate the 7 events using a simulated-annealing method\n",
      "Max Setting: Nst 500   Nps 20000 Ntb 20000\n"
     ]
    },
    {
     "name": "stdout",
     "output_type": "stream",
     "text": [
      "Nlat= 11 Nlon= 11 Ndep= 22 Ntotal= 2662\n",
      "20220623\n"
     ]
    },
    {
     "name": "stderr",
     "output_type": "stream",
     "text": [
      "Actual     : Nst 66    Nps 1723  Ntb 20000\n",
      "p-window= nrt*ptw = 1.20 * 5.08 sec = 6.10 sec\n",
      "s-window= nrt*stw = 1.20 * 9.55 sec = 11.46 sec\n",
      "event-window= 11.46 sec\n",
      "Largest distance 1.55 degree was used\n",
      "events with nearest event-station distance > nxd * GCarc0 will be discarded\n",
      "i.e., 0.50 * 1.55 deg. = 86.18 km\n",
      "    1   2022 06 23 00:59:19.969     3559.969  0.7129 45.5753 -123.0729  38.00   4   3   7   1 133.09\n",
      "    2   2022 06 23 02:08:06.476     7686.476  0.9861 45.5065 -122.9024   8.00   5   4   9   2 174.87\n",
      "    3   2022 06 23 04:37:38.936    16658.936  0.6991 45.7525 -122.9491   6.00   5   3   8   1 136.36\n",
      "    4   2022 06 23 07:15:26.191    26126.191  0.9495 45.5168 -122.8307   6.00   4   3   7   2 169.93\n",
      "    5   2022 06 23 07:15:26.191    26126.191  0.9495 45.5168 -122.8307   6.00   4   3   7   2 169.93\n",
      "    6   2022 06 23 08:54:22.669    32062.669  0.8208 45.3132 -123.0184   0.00   4   3   7   1 187.54\n",
      "    7   2022 06 23 12:16:47.800    44207.800  0.9695 46.1023 -123.1961  18.00   4   3   7   1 287.47\n",
      "    8   2022 06 23 13:59:30.004    50370.004  0.9189 45.9761 -123.0600  14.00   4   3   7   1 253.34\n",
      "    9   2022 06 23 13:59:30.004    50370.004  0.9189 45.9761 -123.0600  14.00   4   3   7   1 253.34\n",
      "   10   2022 06 23 14:18:02.672    51482.672  0.8451 45.2113 -123.7239  32.00   5   4   9   1 300.63\n",
      "   11   2022 06 23 16:02:24.479    57744.479  0.7756 45.4940 -122.8910   0.00   5   3   8   3 167.79\n",
      "   12   2022 06 23 18:28:45.293    66525.293  0.9664 45.4513 -123.6517  32.00   4   4   8   1 308.56\n",
      "   13   2022 06 23 18:28:45.293    66525.293  0.9664 45.4513 -123.6517  32.00   4   4   8   1 308.56\n",
      "   14   2022 06 23 18:28:46.741    66526.741  0.7528 45.5132 -123.5902  30.00   4   4   8   1 288.12\n",
      "   15   2022 06 23 20:31:50.615    73910.615  0.9200 45.6972 -122.6420  40.00   5   5  10   1 251.99\n",
      "   16   2022 06 23 20:31:50.615    73910.615  0.9200 45.6972 -122.6420  40.00   5   5  10   1 251.99\n",
      "   17   2022 06 23 21:33:24.130    77604.130  0.7464 45.0170 -122.9717  30.00   4   3   7   1 263.23\n",
      "   18   2022 06 23 22:39:04.934    81544.934  0.8683 45.7967 -123.0001  42.00   4   3   7   2 149.12\n",
      "   19   2022 06 23 22:56:11.577    82571.577  0.8956 45.5299 -123.4111  10.00   4   3   7   3 229.57\n",
      "before first selection: 19\n",
      "remove duplicate events\n",
      "after first selection: 14\n",
      "before second selection: 14\n",
      "remove suspicious events, outlier picks and duplicate associated picks\n",
      "after second selection: 11\n",
      "Relocate the 11 events using a simulated-annealing method\n",
      "Max Setting: Nst 500   Nps 20000 Ntb 20000\n"
     ]
    },
    {
     "name": "stdout",
     "output_type": "stream",
     "text": [
      "Nlat= 11 Nlon= 11 Ndep= 22 Ntotal= 2662\n",
      "20220624\n"
     ]
    },
    {
     "name": "stderr",
     "output_type": "stream",
     "text": [
      "Actual     : Nst 65    Nps 1697  Ntb 20000\n",
      "p-window= nrt*ptw = 1.20 * 5.08 sec = 6.10 sec\n",
      "s-window= nrt*stw = 1.20 * 9.55 sec = 11.46 sec\n",
      "event-window= 11.46 sec\n",
      "Largest distance 1.55 degree was used\n",
      "events with nearest event-station distance > nxd * GCarc0 will be discarded\n",
      "i.e., 0.50 * 1.55 deg. = 86.18 km\n",
      "    1   2022 06 24 01:09:09.220     4149.220  0.9655 45.4972 -122.9279   8.00   5   3   8   2 204.37\n",
      "    2   2022 06 24 01:40:37.940     6037.940  0.8035 45.4540 -123.1768   0.00   5   3   8   1 137.75\n",
      "    3   2022 06 24 04:07:39.653    14859.653  0.9050 45.7081 -122.5836   0.00   5   3   8   2 231.58\n",
      "    4   2022 06 24 05:01:19.406    18079.406  0.9052 45.5065 -123.1883   4.00   4   9  13   3 193.27\n",
      "    5   2022 06 24 07:31:12.268    27072.268  0.8839 45.5925 -122.7534   8.00   4   3   7   2 196.30\n",
      "    6   2022 06 24 18:52:23.807    67943.807  0.9060 45.8170 -122.3999   0.00   5   3   8   2 197.63\n",
      "    7   2022 06 24 22:00:17.515    79217.515  0.9566 45.9004 -123.2450  12.00   4   3   7   1 312.49\n",
      "    8   2022 06 24 23:14:07.352    83647.352  0.7276 45.3044 -122.8898   0.00   4   3   7   1 276.96\n",
      "before first selection: 8\n",
      "remove duplicate events\n",
      "after first selection: 8\n",
      "before second selection: 8\n",
      "remove suspicious events, outlier picks and duplicate associated picks\n",
      "after second selection: 6\n",
      "Relocate the 6 events using a simulated-annealing method\n",
      "Max Setting: Nst 500   Nps 20000 Ntb 20000\n"
     ]
    },
    {
     "name": "stdout",
     "output_type": "stream",
     "text": [
      "Nlat= 11 Nlon= 11 Ndep= 22 Ntotal= 2662\n",
      "20220625\n"
     ]
    },
    {
     "name": "stderr",
     "output_type": "stream",
     "text": [
      "Actual     : Nst 62    Nps 1292  Ntb 20000\n",
      "p-window= nrt*ptw = 1.20 * 5.08 sec = 6.10 sec\n",
      "s-window= nrt*stw = 1.20 * 9.55 sec = 11.46 sec\n",
      "event-window= 11.46 sec\n",
      "Largest distance 1.55 degree was used\n",
      "events with nearest event-station distance > nxd * GCarc0 will be discarded\n",
      "i.e., 0.50 * 1.55 deg. = 86.18 km\n",
      "    1   2022 06 25 03:06:45.304    11205.304  0.9876 45.2540 -122.8909  38.00   6   4  10   2 110.75\n",
      "    2   2022 06 25 05:12:44.028    18764.028  0.8175 45.5299 -122.8393   0.00   4   3   7   2 169.02\n",
      "    3   2022 06 25 05:16:08.245    18968.245  0.9554 45.7703 -122.7115   0.00   4   3   7   2 250.72\n",
      "    4   2022 06 25 05:16:08.804    18968.804  0.9566 45.7472 -122.7565   2.00   4   3   7   2 229.42\n",
      "    5   2022 06 25 06:25:49.958    23149.958  0.9538 45.3877 -123.1782  28.00   4   4   8   2 274.99\n",
      "    6   2022 06 25 12:55:36.863    46536.863  0.9856 45.7004 -122.9592  22.00   4   3   7   1 173.25\n",
      "    7   2022 06 25 12:55:36.863    46536.863  0.9856 45.7004 -122.9592  22.00   4   3   7   1 173.25\n",
      "    8   2022 06 25 17:54:44.541    64484.541  0.9062 45.5494 -123.2680   0.00   4   3   7   2 230.86\n",
      "    9   2022 06 25 18:44:52.439    67492.439  0.9787 45.7070 -122.8372  26.00   4   3   7   2 141.39\n",
      "   10   2022 06 25 19:59:37.320    71977.320  0.4421 45.5761 -123.3459   0.00   4   3   7   2 263.18\n",
      "   11   2022 06 25 20:21:34.683    73294.683  0.8739 45.4937 -123.5154  26.00   4   3   7   2 247.71\n",
      "   12   2022 06 25 20:21:34.502    73294.502  0.9033 45.4885 -123.5275  26.00   4   3   7   2 249.86\n",
      "   13   2022 06 25 20:50:26.058    75026.058  0.9768 45.5555 -122.8868   4.00   4   3   7   2 212.49\n",
      "   14   2022 06 25 20:55:20.084    75320.084  0.9840 45.4972 -123.2138   2.00   5   3   8   2 151.42\n",
      "   15   2022 06 25 23:10:32.966    83432.966  0.9367 45.5753 -122.2152  14.00   5   4   9   1 195.20\n",
      "before first selection: 15\n",
      "remove duplicate events\n",
      "after first selection: 12\n",
      "before second selection: 12\n",
      "remove suspicious events, outlier picks and duplicate associated picks\n",
      "after second selection: 11\n",
      "Relocate the 11 events using a simulated-annealing method\n",
      "Max Setting: Nst 500   Nps 20000 Ntb 20000\n"
     ]
    },
    {
     "name": "stdout",
     "output_type": "stream",
     "text": [
      "Nlat= 11 Nlon= 11 Ndep= 22 Ntotal= 2662\n",
      "20220626\n"
     ]
    },
    {
     "name": "stderr",
     "output_type": "stream",
     "text": [
      "Actual     : Nst 66    Nps 1619  Ntb 20000\n",
      "p-window= nrt*ptw = 1.20 * 5.08 sec = 6.10 sec\n",
      "s-window= nrt*stw = 1.20 * 9.55 sec = 11.46 sec\n",
      "event-window= 11.46 sec\n",
      "Largest distance 1.55 degree was used\n",
      "events with nearest event-station distance > nxd * GCarc0 will be discarded\n",
      "i.e., 0.50 * 1.55 deg. = 86.18 km\n",
      "    1   2022 06 26 00:22:18.321     1338.321  0.9761 45.5761 -123.0600  32.00   4   3   7   1 200.08\n",
      "    2   2022 06 26 01:19:05.595     4745.595  0.8923 45.5081 -123.4413  18.00   4   3   7   1 293.22\n",
      "    3   2022 06 26 01:19:05.595     4745.595  0.8923 45.5081 -123.4413  18.00   4   3   7   1 293.22\n",
      "    4   2022 06 26 01:23:28.754     5008.754  0.8985 46.1703 -122.9974  42.00   4   3   7   1 319.45\n",
      "    5   2022 06 26 01:38:22.256     5902.256  0.9976 45.7703 -123.2833   0.00   5   4   9   2 249.77\n",
      "    6   2022 06 26 03:54:40.635    14080.635  0.8465 45.5214 -122.8205   8.00   4   4   8   2 175.98\n",
      "    7   2022 06 26 11:59:54.271    43194.271  0.8013 45.5555 -122.8868   2.00   4   3   7   2 182.68\n",
      "    8   2022 06 26 12:36:39.795    45399.795  0.7410 45.5925 -122.7534  10.00   4   3   7   1 310.18\n",
      "    9   2022 06 26 15:44:38.382    56678.382  0.9993 45.7132 -123.0184  12.00   4   3   7   2 175.33\n",
      "   10   2022 06 26 19:54:09.225    71649.225  0.9815 45.4790 -122.8087   2.00   4   4   8   1 113.07\n",
      "   11   2022 06 26 23:48:33.330    85713.330  0.7821 45.4169 -123.1034   6.00   4   3   7   2 203.32\n",
      "before first selection: 11\n",
      "remove duplicate events\n",
      "after first selection: 10\n",
      "before second selection: 10\n",
      "remove suspicious events, outlier picks and duplicate associated picks\n",
      "after second selection: 7\n",
      "Relocate the 7 events using a simulated-annealing method\n",
      "Max Setting: Nst 500   Nps 20000 Ntb 20000\n"
     ]
    },
    {
     "name": "stdout",
     "output_type": "stream",
     "text": [
      "Nlat= 11 Nlon= 11 Ndep= 22 Ntotal= 2662\n",
      "20220627\n"
     ]
    },
    {
     "name": "stderr",
     "output_type": "stream",
     "text": [
      "Actual     : Nst 64    Nps 1626  Ntb 20000\n",
      "p-window= nrt*ptw = 1.20 * 5.08 sec = 6.10 sec\n",
      "s-window= nrt*stw = 1.20 * 9.55 sec = 11.46 sec\n",
      "event-window= 11.46 sec\n",
      "Largest distance 1.55 degree was used\n",
      "events with nearest event-station distance > nxd * GCarc0 will be discarded\n",
      "i.e., 0.50 * 1.55 deg. = 86.18 km\n",
      "    1   2022 06 27 00:14:55.507      895.507  0.8503 45.6540 -122.8909   0.00   5   3   8   2 259.84\n",
      "    2   2022 06 27 02:37:22.823     9442.823  0.7120 45.7023 -123.1961   0.00   4   3   7   2 293.92\n",
      "    3   2022 06 27 03:11:07.596    11467.596  0.7813 45.4423 -122.9388  10.00   4   3   7   3 186.52\n",
      "    4   2022 06 27 05:49:14.279    20954.279  0.5123 45.5023 -122.9102  24.00   4   3   7   2 177.69\n",
      "    5   2022 06 27 07:32:17.948    27137.948  0.9969 45.2170 -122.3999  30.00   4   3   7   1 288.45\n",
      "    6   2022 06 27 07:32:19.069    27139.069  0.7061 45.1925 -122.4675  22.00   4   3   7   1 281.66\n",
      "    7   2022 06 27 11:29:49.183    41389.183  0.9962 45.4790 -123.2841   0.00   5   3   8   2 169.47\n",
      "    8   2022 06 27 11:29:49.183    41389.183  0.9962 45.4790 -123.2841   0.00   5   3   8   2 169.47\n",
      "    9   2022 06 27 12:12:24.069    43944.069  0.7480 45.4695 -123.4853  16.00   4   3   7   1 214.82\n",
      "   10   2022 06 27 20:09:49.893    72589.893  0.9475 45.3877 -122.8923  38.00   6   3   9   1 120.82\n",
      "   11   2022 06 27 20:09:49.893    72589.893  0.9475 45.3877 -122.8923  38.00   6   3   9   1 120.82\n",
      "   12   2022 06 27 20:37:31.864    74251.864  0.7816 45.8793 -122.0504  38.00   4   3   7   1 346.04\n",
      "   13   2022 06 27 23:01:29.222    82889.222  0.9943 45.6113 -122.5803  42.00   9  13  22   7 275.46\n",
      "before first selection: 13\n",
      "remove duplicate events\n",
      "after first selection: 10\n",
      "before second selection: 10\n",
      "remove suspicious events, outlier picks and duplicate associated picks\n",
      "after second selection: 5\n",
      "Relocate the 5 events using a simulated-annealing method\n",
      "Max Setting: Nst 500   Nps 20000 Ntb 20000\n"
     ]
    },
    {
     "name": "stdout",
     "output_type": "stream",
     "text": [
      "Nlat= 11 Nlon= 11 Ndep= 22 Ntotal= 2662\n",
      "20220628\n"
     ]
    },
    {
     "name": "stderr",
     "output_type": "stream",
     "text": [
      "Actual     : Nst 63    Nps 1589  Ntb 20000\n",
      "p-window= nrt*ptw = 1.20 * 5.08 sec = 6.10 sec\n",
      "s-window= nrt*stw = 1.20 * 9.55 sec = 11.46 sec\n",
      "event-window= 11.46 sec\n",
      "Largest distance 1.55 degree was used\n",
      "events with nearest event-station distance > nxd * GCarc0 will be discarded\n",
      "i.e., 0.50 * 1.55 deg. = 86.18 km\n",
      "    1   2022 06 28 07:41:04.293    27664.293  0.9463 45.5214 -123.3923   0.00   5   3   8   1 315.53\n",
      "    2   2022 06 28 11:26:33.027    41193.027  0.4708 45.7703 -123.8551  30.00   4   4   8   1 332.38\n",
      "    3   2022 06 28 12:49:45.011    46185.011  0.7758 45.6790 -124.1418  38.00   5   4   9   1 338.04\n",
      "    4   2022 06 28 15:52:25.432    57145.432  0.9134 45.7061 -122.8855   0.00   4   4   8   1 144.40\n",
      "    5   2022 06 28 17:13:19.802    61999.802  0.8835 45.2170 -122.9717   0.00   6   3   9   1 133.30\n",
      "    6   2022 06 28 17:13:19.802    61999.802  0.8835 45.2170 -122.9717   0.00   6   3   9   1 133.30\n",
      "    7   2022 06 28 18:34:48.097    66888.097  0.9830 45.7044 -122.6039  42.00   4   3   7   1 285.31\n",
      "    8   2022 06 28 18:38:08.511    67088.511  0.9758 45.3299 -122.8393   0.00   4   5   9   2 156.49\n",
      "    9   2022 06 28 20:45:55.529    74755.529  0.9945 45.9877 -122.8923  18.00  16  14  30  10 184.90\n",
      "   10   2022 06 28 21:30:46.375    77446.375  0.3518 45.3673 -122.5436  42.00   4   3   7   2 257.19\n",
      "   11   2022 06 28 22:40:26.199    81626.199  0.9822 45.4793 -122.9080  10.00   5   3   8   2 212.26\n",
      "before first selection: 11\n",
      "remove duplicate events\n",
      "after first selection: 10\n",
      "before second selection: 10\n",
      "remove suspicious events, outlier picks and duplicate associated picks\n",
      "after second selection: 6\n",
      "Relocate the 6 events using a simulated-annealing method\n",
      "Max Setting: Nst 500   Nps 20000 Ntb 20000\n"
     ]
    },
    {
     "name": "stdout",
     "output_type": "stream",
     "text": [
      "Nlat= 11 Nlon= 11 Ndep= 22 Ntotal= 2662\n",
      "20220629\n"
     ]
    },
    {
     "name": "stderr",
     "output_type": "stream",
     "text": [
      "Actual     : Nst 63    Nps 1598  Ntb 20000\n",
      "p-window= nrt*ptw = 1.20 * 5.08 sec = 6.10 sec\n",
      "s-window= nrt*stw = 1.20 * 9.55 sec = 11.46 sec\n",
      "event-window= 11.46 sec\n",
      "Largest distance 1.55 degree was used\n",
      "events with nearest event-station distance > nxd * GCarc0 will be discarded\n",
      "i.e., 0.50 * 1.55 deg. = 86.18 km\n",
      "    1   2022 06 29 01:06:05.693     3965.693  0.9566 45.3132 -122.7325  14.00   4   4   8   2 244.03\n",
      "    2   2022 06 29 04:11:34.012    15094.012  0.8207 45.5103 -123.1487   0.00   5   4   9   3 191.41\n",
      "    3   2022 06 29 04:11:34.128    15094.128  0.9662 45.5299 -123.1252   0.00   5   4   9   3 197.40\n",
      "    4   2022 06 29 04:32:20.497    16340.497  0.8921 45.7132 -122.7325  32.00   4   3   7   1 211.09\n",
      "    5   2022 06 29 04:32:22.975    16342.975  0.7715 45.5761 -123.0600   0.00   4   3   7   1 228.42\n",
      "    6   2022 06 29 04:38:37.820    16717.820  0.8216 45.7168 -123.1166   0.00   4   3   7   2 250.66\n",
      "    7   2022 06 29 04:46:07.412    17167.412  0.9285 45.3925 -122.7534  26.00   4   3   7   1 277.37\n",
      "    8   2022 06 29 13:47:48.767    49668.767  0.9628 45.1703 -122.7115  20.00   5   4   9   1 298.50\n",
      "    9   2022 06 29 17:28:22.253    62902.253  0.6671 45.3132 -122.7325  24.00   4   4   8   1 188.18\n",
      "   10   2022 06 29 18:35:54.743    66954.743  0.9193 45.7401 -122.5822  24.00   4   4   8   1 312.72\n",
      "   11   2022 06 29 20:29:38.017    73778.017  0.5234 45.6790 -123.9523  40.00   4   4   8   1 322.98\n",
      "   12   2022 06 29 21:55:30.722    78930.722  0.8225 45.5132 -122.7325   0.00   4   3   7   2 138.61\n",
      "   13   2022 06 29 22:04:50.249    79490.249  0.8338 45.5555 -122.0291   0.00   5   3   8   1 219.42\n",
      "   14   2022 06 29 22:09:54.432    79794.432  0.9759 45.5525 -122.6632   0.00   5   3   8   3 210.07\n",
      "before first selection: 14\n",
      "remove duplicate events\n",
      "after first selection: 12\n",
      "before second selection: 12\n",
      "remove suspicious events, outlier picks and duplicate associated picks\n",
      "after second selection: 8\n",
      "Relocate the 8 events using a simulated-annealing method\n",
      "Max Setting: Nst 500   Nps 20000 Ntb 20000\n"
     ]
    },
    {
     "name": "stdout",
     "output_type": "stream",
     "text": [
      "Nlat= 11 Nlon= 11 Ndep= 22 Ntotal= 2662\n",
      "20220630\n"
     ]
    },
    {
     "name": "stderr",
     "output_type": "stream",
     "text": [
      "Actual     : Nst 66    Nps 1657  Ntb 20000\n",
      "p-window= nrt*ptw = 1.20 * 5.08 sec = 6.10 sec\n",
      "s-window= nrt*stw = 1.20 * 9.55 sec = 11.46 sec\n",
      "event-window= 11.46 sec\n",
      "Largest distance 1.55 degree was used\n",
      "events with nearest event-station distance > nxd * GCarc0 will be discarded\n",
      "i.e., 0.50 * 1.55 deg. = 86.18 km\n",
      "    1   2022 06 30 01:56:09.717     6969.717  0.8218 45.7555 -122.8868   2.00   4   5   9   2 132.43\n",
      "    2   2022 06 30 04:00:00.498    14400.498  0.9660 45.9761 -122.7741  22.00  40  48  88  37 183.73\n",
      "    3   2022 06 30 04:22:40.339    15760.339  0.9453 44.7703 -122.9974  42.00   6   3   9   1 301.17\n",
      "    4   2022 06 30 06:59:12.294    25152.294  0.7763 45.8972 -122.3561  42.00   6   3   9   1 268.60\n",
      "    5   2022 06 30 09:52:12.129    35532.129  0.9867 45.2084 -121.6172  42.00  13  25  38  12 280.27\n",
      "    6   2022 06 30 11:54:51.335    42891.335  0.8565 45.5703 -122.9974  42.00   4   5   9   1 143.61\n",
      "    7   2022 06 30 12:38:38.715    45518.715  0.7293 45.6695 -122.9135  26.00   4   3   7   1 122.93\n",
      "    8   2022 06 30 17:51:53.364    64313.364  0.9265 45.7132 -122.7325   4.00   6   3   9   2 238.53\n",
      "    9   2022 06 30 19:14:56.583    69296.583  0.9570 45.6885 -123.5275  42.00   6   3   9   1 225.25\n",
      "   10   2022 06 30 19:40:35.421    70835.421  0.8939 45.8113 -123.1521   0.00   4   3   7   1 134.90\n",
      "   11   2022 06 30 20:02:37.586    72157.586  0.9519 45.7132 -123.5902   0.00   4   3   7   1 286.57\n",
      "   12   2022 06 30 20:02:37.586    72157.586  0.9519 45.7132 -123.5902   0.00   4   3   7   1 286.57\n",
      "   13   2022 06 30 21:06:09.424    75969.424  0.9576 45.4423 -123.2247   2.00   4   5   9   2 186.69\n",
      "before first selection: 13\n",
      "remove duplicate events\n",
      "after first selection: 12\n",
      "before second selection: 12\n",
      "remove suspicious events, outlier picks and duplicate associated picks\n",
      "after second selection: 10\n",
      "Relocate the 10 events using a simulated-annealing method\n",
      "Max Setting: Nst 500   Nps 20000 Ntb 20000\n"
     ]
    },
    {
     "name": "stdout",
     "output_type": "stream",
     "text": [
      "Nlat= 11 Nlon= 11 Ndep= 22 Ntotal= 2662\n",
      "20220701\n"
     ]
    },
    {
     "name": "stderr",
     "output_type": "stream",
     "text": [
      "Actual     : Nst 54    Nps 1559  Ntb 20000\n",
      "p-window= nrt*ptw = 1.20 * 5.08 sec = 6.10 sec\n",
      "s-window= nrt*stw = 1.20 * 9.55 sec = 11.46 sec\n",
      "event-window= 11.46 sec\n",
      "Largest distance 1.55 degree was used\n",
      "events with nearest event-station distance > nxd * GCarc0 will be discarded\n",
      "i.e., 0.50 * 1.55 deg. = 86.18 km\n",
      "    1   2022 07 01 00:43:52.752     2632.752  0.9225 45.7877 -122.8923  22.00   6   3   9   2 175.09\n",
      "    2   2022 07 01 01:49:37.126     6577.126  0.9621 45.4170 -122.3999  16.00   5   3   8   2 238.25\n",
      "    3   2022 07 01 02:17:25.012     8245.012  0.9502 45.3877 -122.8923  12.00   5   4   9   1 151.62\n",
      "    4   2022 07 01 03:31:59.457    12719.457  0.9509 45.5555 -122.6009   6.00   4   3   7   3 335.51\n",
      "    5   2022 07 01 07:09:33.837    25773.837  0.9278 45.1877 -122.8923   0.00   4   4   8   1 296.44\n",
      "    6   2022 07 01 07:46:50.537    28010.537  0.9839 45.7214 -123.1064   0.00   4   3   7   1 265.55\n",
      "    7   2022 07 01 07:46:51.577    28011.577  0.8569 45.4809 -123.0495  18.00   4   3   7   1 178.33\n",
      "    8   2022 07 01 09:55:34.378    35734.378  0.9476 45.4540 -123.1768   0.00   5   3   8   2 213.02\n",
      "    9   2022 07 01 18:09:48.391    65388.391  0.7813 45.6423 -122.6529   0.00   4   4   8   1 193.44\n",
      "   10   2022 07 01 19:55:51.958    71751.958  0.9302 45.7753 -123.0729   0.00   4   3   7   1 123.26\n",
      "   11   2022 07 01 20:51:28.104    75088.104  0.9132 45.5494 -122.9821   8.00   5   5  10   3 122.15\n",
      "   12   2022 07 01 23:41:19.412    85279.412  0.9777 45.4423 -122.6529  32.00   6   4  10   1 136.82\n",
      "   13   2022 07 01 23:41:19.412    85279.412  0.9777 45.4423 -122.6529  32.00   6   4  10   1 136.82\n",
      "before first selection: 13\n",
      "remove duplicate events\n",
      "after first selection: 11\n",
      "before second selection: 11\n",
      "remove suspicious events, outlier picks and duplicate associated picks\n",
      "after second selection: 8\n",
      "Relocate the 8 events using a simulated-annealing method\n",
      "Max Setting: Nst 500   Nps 20000 Ntb 20000\n"
     ]
    },
    {
     "name": "stdout",
     "output_type": "stream",
     "text": [
      "Nlat= 11 Nlon= 11 Ndep= 22 Ntotal= 2662\n",
      "20220702\n"
     ]
    },
    {
     "name": "stderr",
     "output_type": "stream",
     "text": [
      "Actual     : Nst 55    Nps 1630  Ntb 20000\n",
      "p-window= nrt*ptw = 1.20 * 5.08 sec = 6.10 sec\n",
      "s-window= nrt*stw = 1.20 * 9.55 sec = 11.46 sec\n",
      "event-window= 11.46 sec\n",
      "Largest distance 1.55 degree was used\n",
      "events with nearest event-station distance > nxd * GCarc0 will be discarded\n",
      "i.e., 0.50 * 1.55 deg. = 86.18 km\n",
      "    1   2022 07 02 00:52:19.286     3139.286  0.9915 45.3929 -123.1489  14.00   5   3   8   1 143.22\n",
      "    2   2022 07 02 00:52:19.914     3139.914  0.8731 45.4140 -123.0803  14.00   5   3   8   1 108.94\n",
      "    3   2022 07 02 04:59:05.112    17945.112  0.8145 45.9168 -123.1166   0.00   4   4   8   2 298.92\n",
      "    4   2022 07 02 06:02:03.346    21723.346  0.6530 45.4113 -122.8662  24.00  18  22  40  18  95.86\n",
      "    5   2022 07 02 10:00:12.839    36012.839  0.6088 45.6786 -121.8739  26.00   4   3   7   2 321.12\n",
      "    6   2022 07 02 10:09:32.440    36572.440  0.9936 45.6809 -122.7636   8.00   4   4   8   3 254.22\n",
      "    7   2022 07 02 12:46:17.958    45977.958  0.9502 45.3168 -123.1166  34.00   5   3   8   3 267.27\n",
      "    8   2022 07 02 12:46:18.236    45978.236  0.9751 45.6972 -123.2138  32.00   5   3   8   3 268.64\n",
      "    9   2022 07 02 13:58:05.994    50285.994  0.7973 45.4556 -123.2440   0.00   4   3   7   3 183.68\n",
      "   10   2022 07 02 18:05:01.023    65101.023  0.7563 45.4786 -122.7316   2.00   5   3   8   2 206.20\n",
      "   11   2022 07 02 19:54:09.270    71649.270  0.9524 45.3967 -123.0001   0.00   5   3   8   2 262.04\n"
     ]
    },
    {
     "name": "stdout",
     "output_type": "stream",
     "text": [
      "Nlat= 11 Nlon= 11 Ndep= 22 Ntotal= 2662\n"
     ]
    },
    {
     "name": "stderr",
     "output_type": "stream",
     "text": [
      "before first selection: 11\n",
      "remove duplicate events\n",
      "after first selection: 9\n",
      "before second selection: 9\n",
      "remove suspicious events, outlier picks and duplicate associated picks\n",
      "after second selection: 6\n",
      "Relocate the 6 events using a simulated-annealing method\n"
     ]
    }
   ],
   "source": [
    "# Open day file\n",
    "days = np.loadtxt(fday,dtype='str')\n",
    "\n",
    "# Open master catalog and phase files\n",
    "mcat = open(fmcat,'w')\n",
    "mpha = open(fmpha,'w')\n",
    "\n",
    "for i in range(len(days)):\n",
    "    day=days[i]\n",
    "    print(day)\n",
    "\n",
    "    dstr=\"-D2022/\"+day[4:6]+\"/\"+day[6:8]+\"/45.609\"\n",
    "    ddir=\"./fullmonth_days/\"+day\n",
    "    # Run the REAL algorithm for the day\n",
    "    subprocess.run([\"../../bin/REAL\", dstr, \"-R1.0/42/0.2/2/5\", \"-V6.2/3.3/2.9/1.68\", \"-S4/3/5/1/1.0/0/1.2\", fsta, ddir])\n",
    "\n",
    "    # Copy output files for the day to the day's directory\n",
    "    shutil.copyfile(\"catalog_sel.txt\", \"./fullmonth_days/\"+day+\"/catalog_sel_\"+day+\".txt\")\n",
    "    shutil.copyfile(\"phase_sel.txt\", \"./fullmonth_days/\"+day+\"/phase_sel_\"+day+\".txt\")\n",
    "    shutil.copyfile(\"hypolocSA.dat\", \"./fullmonth_days/\"+day+\"/hypolocSA_\"+day+\".dat\")\n",
    "    shutil.copyfile(\"hypophase.dat\", \"./fullmonth_days/\"+day+\"/hypophase_\"+day+\".dat\")\n",
    "    \n",
    "    # Open output catalog and phase files and append data to master files\n",
    "    if(i==0):\n",
    "        shutil.copyfile(\"catalog_sel.txt\", \"master_catalog_sel.txt\")\n",
    "        shutil.copyfile(\"phase_sel.txt\", \"master_phase_sel.txt\")\n",
    "    else:\n",
    "        mcat=open(\"master_catalog_sel.txt\",\"a+\")\n",
    "        mpha=open(\"master_phase_sel.txt\",\"a+\")\n",
    "        cat=open(\"catalog_sel.txt\",\"r\")\n",
    "        pha=open(\"phase_sel.txt\",\"r\")\n",
    "        \n",
    "        mcat.write(cat.read())\n",
    "        mpha.write(pha.read())\n",
    "        \n",
    "        mcat.close()\n",
    "        mpha.close()\n",
    "        cat.close()\n",
    "        pha.close()\n",
    "    "
   ]
  }
 ],
 "metadata": {
  "kernelspec": {
   "display_name": "Python 3 (ipykernel)",
   "language": "python",
   "name": "python3"
  },
  "language_info": {
   "codemirror_mode": {
    "name": "ipython",
    "version": 3
   },
   "file_extension": ".py",
   "mimetype": "text/x-python",
   "name": "python",
   "nbconvert_exporter": "python",
   "pygments_lexer": "ipython3",
   "version": "3.8.10"
  }
 },
 "nbformat": 4,
 "nbformat_minor": 5
}

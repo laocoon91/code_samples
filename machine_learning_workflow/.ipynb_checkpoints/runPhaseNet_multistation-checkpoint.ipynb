{
 "cells": [
  {
   "cell_type": "code",
   "execution_count": null,
   "id": "ebad76ea",
   "metadata": {},
   "outputs": [],
   "source": [
    "\"\"\"\n",
    "Run PhaseNet algorithm to detect P- and S-wave arrivals in seismogram data.\n",
    "Code runs PhaseNet, cleans up output files, and generates input files for REAL association algorithm.\n",
    "NOTE: Notebook must be run in specialized PhaseNet python environment. See PhaseNet manual for details.\n",
    "\n",
    "INPUTS:\n",
    "- processed seismogram miniseed files\n",
    "- station list\n",
    "\n",
    "OUTPUTS:\n",
    "- Raw PhaseNet trigger output file\n",
    "- Cleaned/Sorted PhaseNet trigger output file\n",
    "- REAL associater input files\n",
    "\n",
    "\"\"\""
   ]
  },
  {
   "cell_type": "code",
   "execution_count": 1,
   "id": "dff70ab3",
   "metadata": {},
   "outputs": [],
   "source": [
    "import numpy as np\n",
    "import tensorflow as tf\n",
    "from obspy import UTCDateTime\n",
    "import os"
   ]
  },
  {
   "cell_type": "code",
   "execution_count": 2,
   "id": "f918f06e",
   "metadata": {},
   "outputs": [],
   "source": [
    "### CHANGE THESE!!! ###\n",
    "\n",
    "# Name of station\n",
    "infile = \"fname_PortlandStats.csv\"\n",
    "\n",
    "# Start time of observation period\n",
    "tstrt = \"2022-05-27T00:00:00.000\" # start of fullmonth period\n",
    "\n",
    "#######################"
   ]
  },
  {
   "cell_type": "code",
   "execution_count": 3,
   "id": "3a5e63ea",
   "metadata": {
    "scrolled": true
   },
   "outputs": [
    {
     "name": "stdout",
     "output_type": "stream",
     "text": [
      "7042.NP\n"
     ]
    },
    {
     "name": "stderr",
     "output_type": "stream",
     "text": [
      "2023-02-28 10:54:48,176 Pred log: results\n",
      "2023-02-28 10:54:48,176 Dataset size: 207288\n",
      "2023-02-28 10:54:48.268088: I tensorflow/core/platform/cpu_feature_guard.cc:193] This TensorFlow binary is optimized with oneAPI Deep Neural Network Library (oneDNN) to use the following CPU instructions in performance-critical operations:  SSE4.1 SSE4.2 AVX AVX2 FMA\n",
      "To enable them in other operations, rebuild TensorFlow with the appropriate compiler flags.\n",
      "2023-02-28 10:54:48,299 Model: depths 5, filters 8, filter size 7x1, pool size: 4x1, dilation rate: 1x1\n",
      "2023-02-28 10:54:49.958292: I tensorflow/compiler/mlir/mlir_graph_optimization_pass.cc:354] MLIR V1 optimization pass is not enabled\n",
      "2023-02-28 10:54:50,164 restoring model model/190703-214543/model_95.ckpt\n",
      "Pred: 100%|█████████████████████████████| 10365/10365 [1:03:31<00:00,  2.72it/s]\n"
     ]
    },
    {
     "name": "stdout",
     "output_type": "stream",
     "text": [
      "Done with 2468 P-picks and 1069 S-picks\n"
     ]
    }
   ],
   "source": [
    "# Read in list of stations\n",
    "sdat = np.loadtxt(infile,delimiter=',',skiprows=1,dtype=str)\n",
    "\n",
    "# Initiate PhaseNet detection for each station\n",
    "for i in range(len(sdat)):\n",
    "    stanm=sdat[i,0].split('.')\n",
    "    print(stanm)\n",
    "    \n",
    "    # Run PhaseNet detection\n",
    "    %run phasenet/predict.py --model=model/190703-214543 --data_dir=/Volumes/Tualatin_Data/phaseNet_input_waveforms/{stanm} --data_list=/Volumes/Tualatin_Data/phaseNet_input_waveforms/{stanm}/fname_{stanm}.csv --result_fname={stanm}_picks_fullmonth --min_p_prob=0.3 --min_s_prob=0.3 --format=mseed\n",
    "\n",
    "    # Remove duplicate picks.\n",
    "    # Compare detection times. If 2 P or S arrivals occur at the same time, only keep the one\n",
    "    # with the greatest probability\n",
    "    pcks_o = np.loadtxt(\"./results/\"+stanm+\"_picks_fullmonth.csv\",delimiter=',',dtype='str')\n",
    "    head = pcks_o[0,:]\n",
    "    pcks = pcks_o[1:-1,:]\n",
    "    ppicks = pcks[pcks[:,6]=='P']\n",
    "    spicks = pcks[pcks[:,6]=='S']\n",
    "    ptims = np.zeros(len(ppicks[:,4]))\n",
    "    stims = np.zeros(len(spicks[:,4]))\n",
    "    for i in range(len(ptims)):\n",
    "        ptims[i] = UTCDateTime(ppicks[i,4])\n",
    "    for i in range(len(stims)):\n",
    "        stims[i] = UTCDateTime(spicks[i,4])\n",
    "    maskp = np.ones(len(ppicks), dtype=bool)\n",
    "    masks = np.ones(len(spicks), dtype=bool)\n",
    "    for i in range(len(ptims)-1):\n",
    "        if(ptims[i]==ptims[i+1]):\n",
    "            if(float(ppicks[i,5])>float(ppicks[i+1,5])):\n",
    "                remove_ind = i+1\n",
    "            else:\n",
    "                remove_ind = i\n",
    "            maskp[remove_ind]=False\n",
    "    ppicks = ppicks[maskp]\n",
    "    ptims = ptims[maskp]\n",
    "    for i in range(len(stims)-1):\n",
    "        if(stims[i]==stims[i+1]):\n",
    "            if(float(spicks[i,5])>float(spicks[i+1,5])):\n",
    "                remove_ind = i+1\n",
    "            else:\n",
    "                remove_ind = i\n",
    "            masks[remove_ind]=False\n",
    "    spicks = spicks[masks]\n",
    "    stims = stims[masks]\n",
    "\n",
    "    # Sort triggers based on time of occurrence\n",
    "    pind=np.zeros((len(ppicks)))\n",
    "    sind=np.zeros((len(spicks)))\n",
    "    for i in range(len(ppicks)):\n",
    "        plc=ppicks[i,0].split('_')\n",
    "        pind[i]=float(plc[1])*1000000+float(plc[2])\n",
    "    psort=np.argsort(pind)\n",
    "    ppicks=ppicks[psort,:]\n",
    "    for i in range(len(spicks)):\n",
    "        plc=spicks[i,0].split('_')\n",
    "        sind[i]=float(plc[1])*1000000+float(plc[2])\n",
    "    ssort=np.argsort(sind)\n",
    "    spicks=spicks[ssort,:]\n",
    "\n",
    "    apicks = np.vstack((head,ppicks))\n",
    "    apicks = np.vstack((apicks,spicks))\n",
    "    np.savetxt(\"./results/\"+stanm+\"_picks_fullmonth_sorted.csv\",apicks.astype(str), delimiter = ',',fmt='%s')\n",
    "\n",
    "    # Create P and S picks files for use in REAL associator.\n",
    "    stanm2 = stanm.split(\".\")\n",
    "    stanm2 = stanm2[1]+\".\"+stanm2[0]\n",
    "    pf = open(\"/Users/istone/Documents/phaseNet/REAL-master/demo_real/REAL/fullmonth/\"+stanm2+\".P.txt\", \"w\")\n",
    "    sf = open(\"/Users/istone/Documents/phaseNet/REAL-master/demo_real/REAL/fullmonth/\"+stanm2+\".S.txt\", \"w\")\n",
    "    cnt=0\n",
    "    for i in range(1,len(apicks)):\n",
    "        tim = UTCDateTime(apicks[i,4])-UTCDateTime(tstrt)\n",
    "        if(apicks[i,6]=='P'):\n",
    "            pf.write(\"{} {} {}\\n\".format(tim,apicks[i,5],'0.0'))\n",
    "        else:\n",
    "            sf.write(\"{} {} {}\\n\".format(tim,apicks[i,5],'0.0'))\n",
    "    pf.close()\n",
    "    sf.close()\n",
    "    \n",
    "    # Need to include this line so Tensorflow knows its ok to reuse global variables\n",
    "    # (running phasenet within a loop won't work otherwise)\n",
    "    tf.compat.v1.get_variable_scope().reuse_variables()"
   ]
  },
  {
   "cell_type": "markdown",
   "id": "da479c18",
   "metadata": {},
   "source": [
    "###### "
   ]
  }
 ],
 "metadata": {
  "kernelspec": {
   "display_name": "Python 3 (ipykernel)",
   "language": "python",
   "name": "python3"
  },
  "language_info": {
   "codemirror_mode": {
    "name": "ipython",
    "version": 3
   },
   "file_extension": ".py",
   "mimetype": "text/x-python",
   "name": "python",
   "nbconvert_exporter": "python",
   "pygments_lexer": "ipython3",
   "version": "3.8.10"
  }
 },
 "nbformat": 4,
 "nbformat_minor": 5
}

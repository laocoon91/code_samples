{
 "cells": [
  {
   "cell_type": "code",
   "execution_count": null,
   "id": "52c29420",
   "metadata": {},
   "outputs": [],
   "source": [
    "\"\"\"\n",
    "Download miniseed records from IRIS for a given selection of stations.\n",
    "Miniseed data are saved in day-long chunks.\n",
    "\n",
    "INPUT:\n",
    "- CSV file containing station names, networks, and channels (format: \"STA.NET.mseed,HHE,HHN,HHZ\")\n",
    "\n",
    "OUTPUT:\n",
    "- Day-long miniseed files for the given period for each station.\n",
    "\n",
    "\"\"\""
   ]
  },
  {
   "cell_type": "code",
   "execution_count": null,
   "id": "e091521a",
   "metadata": {},
   "outputs": [],
   "source": [
    "import obspy\n",
    "from obspy.clients.fdsn.mass_downloader import RectangularDomain, \\\n",
    "    Restrictions, MassDownloader\n",
    "from obspy.clients.fdsn import Client\n",
    "import numpy as np\n"
   ]
  },
  {
   "cell_type": "code",
   "execution_count": null,
   "id": "81d14af9",
   "metadata": {},
   "outputs": [],
   "source": [
    "# Download non-restricted data from IRIS\n",
    "client = Client('IRIS')\n",
    "# Rectangular domain containing NW Oregon.\n",
    "domain = RectangularDomain(minlatitude=44.5, maxlatitude=46.5,\n",
    "                           minlongitude=-124.5, maxlongitude=-121.5)\n",
    "\n",
    "# Read in station and network info\n",
    "sdat=np.loadtxt(\"fname_PortlandStats.csv\",skiprows=1,delimiter=',',dtype='str')\n",
    "\n",
    "# Download all channels of data for all stations in the given time period\n",
    "for i in range(len(sdat)):\n",
    "    stainfo=sdat[i,0].split('.')\n",
    "    chan=[*sdat[i,1]]\n",
    "    restrictions = Restrictions(\n",
    "        # Get data for the deployment period.\n",
    "        starttime=obspy.UTCDateTime(2022, 5, 27),\n",
    "        endtime=obspy.UTCDateTime(2022, 7, 3),\n",
    "        # Chunk it to have one file per day.\n",
    "        chunklength_in_sec=86400,\n",
    "        # station info\n",
    "        network=stainfo[1], station=stainfo[0], location=\"*\", channel=chan[0]+chan[1]+\"*\",\n",
    "        # Keep data with gaps\n",
    "        reject_channels_with_gaps=False,\n",
    "        # Keep data with small data lengths\n",
    "        minimum_length=0.0,\n",
    "        # Guard against the same station having different names.\n",
    "        minimum_interstation_distance_in_m=100.0,\n",
    "        # If a station does not have XML data, don't delete all its downloaded data\n",
    "        sanitize=False,\n",
    "    )\n",
    "\n",
    "    mdl = MassDownloader(providers=[client])\n",
    "    # save mseeds to \"PNSN_data\" directory, and StationXML files to \"stations\" directory\n",
    "    mdl.download(domain, restrictions, mseed_storage=\"PNSN_data\",\n",
    "                 stationxml_storage=\"stations\")"
   ]
  },
  {
   "cell_type": "code",
   "execution_count": null,
   "id": "58c7b994",
   "metadata": {},
   "outputs": [],
   "source": []
  }
 ],
 "metadata": {
  "kernelspec": {
   "display_name": "Python 3 (ipykernel)",
   "language": "python",
   "name": "python3"
  },
  "language_info": {
   "codemirror_mode": {
    "name": "ipython",
    "version": 3
   },
   "file_extension": ".py",
   "mimetype": "text/x-python",
   "name": "python",
   "nbconvert_exporter": "python",
   "pygments_lexer": "ipython3",
   "version": "3.8.10"
  }
 },
 "nbformat": 4,
 "nbformat_minor": 5
}
